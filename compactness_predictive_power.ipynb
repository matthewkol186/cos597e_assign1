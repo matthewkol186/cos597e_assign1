{
 "cells": [
  {
   "cell_type": "code",
   "execution_count": 22,
   "metadata": {},
   "outputs": [],
   "source": [
    "import pandas as pd \n",
    "import numpy as np\n",
    "import datetime\n",
    "import pickle\n",
    "import us\n",
    "from scipy.stats import ttest_ind\n",
    "import matplotlib.pyplot as plt\n",
    "\n",
    "from sklearn.linear_model import LogisticRegression\n",
    "from sklearn.ensemble import RandomForestClassifier\n",
    "from sklearn.model_selection import train_test_split\n",
    "from sklearn.metrics import roc_auc_score, f1_score\n",
    "\n",
    "# model parameters\n",
    "reg = 1000\n",
    "max_depth = 3"
   ]
  },
  {
   "cell_type": "code",
   "execution_count": 14,
   "metadata": {},
   "outputs": [],
   "source": [
    "compact_df = pd.read_csv('cd_scores.csv', encoding = \"ISO-8859-1\")\n",
    "houseresults = pd.read_csv('vote_results/clean_csv_11_23/house.csv', encoding = \"ISO-8859-1\")\n",
    "\n",
    "compact_df['id'] = compact_df['STATEFP'].astype(str) + '-' + compact_df['CD114FP'].astype(str)\n",
    "houseresults['id'] = houseresults['STATEFP'].astype(str) + '-' + houseresults['CD114FP'].astype(str)\n",
    "\n",
    "state_to_party, housedist_to_party = pickle.load(open('pundits.pkl', 'rb')) # read in baselines.pkl or pundits.pkl depending\n",
    "\n",
    "housedist_to_party = pickle.load(open(\"baselines.pkl\", \"rb\"))[1]\n",
    "\n",
    "housedist_to_id = {}\n",
    "state_to_statefp = {}\n",
    "\n",
    "for i in range(len(houseresults)):\n",
    "    row = houseresults.iloc[i]\n",
    "    state = us.states.lookup(row['state_id']).name.lower()\n",
    "    state_to_statefp[state] = row['STATEFP']\n",
    "    \n",
    "    housedist_to_id[state+str(row['seat_id'])] = row['id']\n",
    "\n",
    "id_to_housedist = {v: k for k, v in housedist_to_id.items()}\n",
    "statefp_to_state = {v: k for k, v in state_to_statefp.items()}"
   ]
  },
  {
   "cell_type": "code",
   "execution_count": 15,
   "metadata": {},
   "outputs": [],
   "source": [
    "compact_version = 'ReockPTB'\n",
    "\n",
    "features = []\n",
    "labels = []\n",
    "\n",
    "for i in range(len(houseresults)):\n",
    "    row = houseresults.iloc[i]\n",
    "    prev_result = housedist_to_party[id_to_housedist[row['id']]]\n",
    "    prev_result = 1 if prev_result == 'democrat' else 0\n",
    "    curr_result = 1 if row['d_won'] else 0\n",
    "    compact_score = compact_df[compact_df['id'] == row['id']][compact_version].values\n",
    "    if len(compact_score) != 1:\n",
    "        print(compact_score)\n",
    "        assert False\n",
    "    compact_score = compact_score[0]\n",
    "    \n",
    "    features.append([prev_result, compact_score])\n",
    "    labels.append(curr_result)"
   ]
  },
  {
   "cell_type": "code",
   "execution_count": 16,
   "metadata": {},
   "outputs": [],
   "source": [
    "features = np.array(features)\n",
    "labels = np.array(labels)"
   ]
  },
  {
   "cell_type": "markdown",
   "metadata": {},
   "source": [
    "## 1. Predictions with compactness data AND past election results"
   ]
  },
  {
   "cell_type": "code",
   "execution_count": 17,
   "metadata": {},
   "outputs": [
    {
     "name": "stdout",
     "output_type": "stream",
     "text": [
      "--------- Compactness AND Election ---------\n",
      "Accuracy LR: 0.94964, RF: 0.94964\n",
      "F1 for LR: 0.9489, RF: 0.9489\n",
      "AUC for LR: 0.9536, RF: 0.953\n",
      "\n"
     ]
    }
   ],
   "source": [
    "\n",
    "train_X, test_X, train_y, test_y = train_test_split(features, labels, test_size=0.33)\n",
    "\n",
    "log_reg = LogisticRegression(C=reg).fit(train_X, train_y)\n",
    "rdm_for = RandomForestClassifier(max_depth=max_depth).fit(train_X, train_y)\n",
    "log_reg_score = log_reg.score(test_X, test_y)\n",
    "rdm_for_score = rdm_for.score(test_X, test_y)\n",
    "log_reg_f1score = f1_score(test_y, log_reg.predict(test_X))\n",
    "rdm_for_f1score = f1_score(test_y, rdm_for.predict(test_X))\n",
    "log_reg_auc = roc_auc_score(test_y, log_reg.predict_proba(test_X)[:, 1])\n",
    "rdm_for_auc = roc_auc_score(test_y, rdm_for.predict_proba(test_X)[:, 1])\n",
    "\n",
    "print(\"--------- Compactness AND Election ---------\")\n",
    "print(\"Accuracy LR: {0}, RF: {1}\".format(round(log_reg_score, 5), round(rdm_for_score, 5)))\n",
    "print(\"F1 for LR: {0}, RF: {1}\".format(round(log_reg_f1score, 4), round(rdm_for_f1score, 4)))\n",
    "print(\"AUC for LR: {0}, RF: {1}\\n\".format(round(log_reg_auc, 4), round(rdm_for_auc, 4)))"
   ]
  },
  {
   "cell_type": "markdown",
   "metadata": {},
   "source": [
    "## 2. Predictions ONLY with Compactness Data"
   ]
  },
  {
   "cell_type": "code",
   "execution_count": 24,
   "metadata": {},
   "outputs": [
    {
     "name": "stdout",
     "output_type": "stream",
     "text": [
      "--------- Just Compactness ---------\n",
      "Accuracy LR: 0.61151, RF: 0.58993\n",
      "F1 for LR: 0.6582, RF: 0.5839\n",
      "AUC for LR: 0.676, RF: 0.6337\n",
      "\n"
     ]
    }
   ],
   "source": [
    "\n",
    "train_X, test_X, train_y, test_y = train_test_split(features[:, 1:], labels, test_size=0.33)\n",
    "\n",
    "log_reg = LogisticRegression(C=reg).fit(train_X, train_y)\n",
    "rdm_for = RandomForestClassifier(max_depth=max_depth).fit(train_X, train_y)\n",
    "log_reg_score = log_reg.score(test_X, test_y)\n",
    "rdm_for_score = rdm_for.score(test_X, test_y)\n",
    "log_reg_f1score = f1_score(test_y, log_reg.predict(test_X))\n",
    "rdm_for_f1score = f1_score(test_y, rdm_for.predict(test_X))\n",
    "log_reg_auc = roc_auc_score(test_y, log_reg.predict_proba(test_X)[:, 1])\n",
    "rdm_for_auc = roc_auc_score(test_y, rdm_for.predict_proba(test_X)[:, 1])\n",
    "\n",
    "print(\"--------- Just Compactness ---------\")\n",
    "print(\"Accuracy LR: {0}, RF: {1}\".format(round(log_reg_score, 5), round(rdm_for_score, 5)))\n",
    "print(\"F1 for LR: {0}, RF: {1}\".format(round(log_reg_f1score, 4), round(rdm_for_f1score, 4)))\n",
    "print(\"AUC for LR: {0}, RF: {1}\\n\".format(round(log_reg_auc, 4), round(rdm_for_auc, 4)))"
   ]
  },
  {
   "cell_type": "code",
   "execution_count": 19,
   "metadata": {},
   "outputs": [
    {
     "name": "stdout",
     "output_type": "stream",
     "text": [
      "0.522673031026253\n"
     ]
    }
   ],
   "source": [
    "print(np.mean(labels))"
   ]
  },
  {
   "cell_type": "code",
   "execution_count": null,
   "metadata": {},
   "outputs": [],
   "source": []
  }
 ],
 "metadata": {
  "kernelspec": {
   "display_name": "Python 3",
   "language": "python",
   "name": "python3"
  },
  "language_info": {
   "codemirror_mode": {
    "name": "ipython",
    "version": 3
   },
   "file_extension": ".py",
   "mimetype": "text/x-python",
   "name": "python",
   "nbconvert_exporter": "python",
   "pygments_lexer": "ipython3",
   "version": "3.5.2"
  }
 },
 "nbformat": 4,
 "nbformat_minor": 2
}
