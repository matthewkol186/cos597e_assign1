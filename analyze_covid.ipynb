{
 "metadata": {
  "language_info": {
   "codemirror_mode": {
    "name": "ipython",
    "version": 3
   },
   "file_extension": ".py",
   "mimetype": "text/x-python",
   "name": "python",
   "nbconvert_exporter": "python",
   "pygments_lexer": "ipython3",
   "version": "3.7.7-final"
  },
  "orig_nbformat": 2,
  "kernelspec": {
   "name": "python3",
   "display_name": "Python 3"
  }
 },
 "nbformat": 4,
 "nbformat_minor": 2,
 "cells": [
  {
   "cell_type": "code",
   "execution_count": 101,
   "metadata": {},
   "outputs": [],
   "source": [
    "import pandas as pd \n",
    "import numpy as np\n",
    "import datetime\n",
    "import pickle\n",
    "import us\n",
    "from scipy.stats import ttest_ind\n",
    "import matplotlib.pyplot as plt\n",
    "\n",
    "from sklearn.linear_model import LogisticRegression\n",
    "from sklearn.ensemble import RandomForestClassifier\n",
    "from sklearn.model_selection import train_test_split\n",
    "from sklearn.metrics import roc_auc_score, f1_score\n",
    "\n",
    "# model parameters\n",
    "reg = 1000\n",
    "max_depth = 5"
   ]
  },
  {
   "source": [
    "# Load election result data and COVID-19 numbers per congressional district"
   ],
   "cell_type": "markdown",
   "metadata": {}
  },
  {
   "cell_type": "code",
   "execution_count": 96,
   "metadata": {},
   "outputs": [
    {
     "output_type": "execute_result",
     "data": {
      "text/plain": [
       "   Unnamed: 0 state_id  STATEFP  seat_id  CD114FP  d_votes  r_votes  \\\n",
       "0           0       AK        2        1        1   159765   191568   \n",
       "1           1       AL        1        1        1   116949   211825   \n",
       "2           2       AL        1        2        2   105286   197996   \n",
       "3           3       AL        1        3        3   104595   217384   \n",
       "4           4       AL        1        4        4    56237   261553   \n",
       "\n",
       "   other_votes  d_vote_share  r_vote_share  other_vote_share  d_won  r_won  \\\n",
       "0            0      0.454740      0.545260          0.000000      0      1   \n",
       "1            0      0.355712      0.644288          0.000000      0      1   \n",
       "2          287      0.346827      0.652227          0.000945      0      1   \n",
       "3            0      0.324850      0.675150          0.000000      0      1   \n",
       "4            0      0.176963      0.823037          0.000000      0      1   \n",
       "\n",
       "   other_won  \n",
       "0          0  \n",
       "1          0  \n",
       "2          0  \n",
       "3          0  \n",
       "4          0  "
      ],
      "text/html": "<div>\n<style scoped>\n    .dataframe tbody tr th:only-of-type {\n        vertical-align: middle;\n    }\n\n    .dataframe tbody tr th {\n        vertical-align: top;\n    }\n\n    .dataframe thead th {\n        text-align: right;\n    }\n</style>\n<table border=\"1\" class=\"dataframe\">\n  <thead>\n    <tr style=\"text-align: right;\">\n      <th></th>\n      <th>Unnamed: 0</th>\n      <th>state_id</th>\n      <th>STATEFP</th>\n      <th>seat_id</th>\n      <th>CD114FP</th>\n      <th>d_votes</th>\n      <th>r_votes</th>\n      <th>other_votes</th>\n      <th>d_vote_share</th>\n      <th>r_vote_share</th>\n      <th>other_vote_share</th>\n      <th>d_won</th>\n      <th>r_won</th>\n      <th>other_won</th>\n    </tr>\n  </thead>\n  <tbody>\n    <tr>\n      <th>0</th>\n      <td>0</td>\n      <td>AK</td>\n      <td>2</td>\n      <td>1</td>\n      <td>1</td>\n      <td>159765</td>\n      <td>191568</td>\n      <td>0</td>\n      <td>0.454740</td>\n      <td>0.545260</td>\n      <td>0.000000</td>\n      <td>0</td>\n      <td>1</td>\n      <td>0</td>\n    </tr>\n    <tr>\n      <th>1</th>\n      <td>1</td>\n      <td>AL</td>\n      <td>1</td>\n      <td>1</td>\n      <td>1</td>\n      <td>116949</td>\n      <td>211825</td>\n      <td>0</td>\n      <td>0.355712</td>\n      <td>0.644288</td>\n      <td>0.000000</td>\n      <td>0</td>\n      <td>1</td>\n      <td>0</td>\n    </tr>\n    <tr>\n      <th>2</th>\n      <td>2</td>\n      <td>AL</td>\n      <td>1</td>\n      <td>2</td>\n      <td>2</td>\n      <td>105286</td>\n      <td>197996</td>\n      <td>287</td>\n      <td>0.346827</td>\n      <td>0.652227</td>\n      <td>0.000945</td>\n      <td>0</td>\n      <td>1</td>\n      <td>0</td>\n    </tr>\n    <tr>\n      <th>3</th>\n      <td>3</td>\n      <td>AL</td>\n      <td>1</td>\n      <td>3</td>\n      <td>3</td>\n      <td>104595</td>\n      <td>217384</td>\n      <td>0</td>\n      <td>0.324850</td>\n      <td>0.675150</td>\n      <td>0.000000</td>\n      <td>0</td>\n      <td>1</td>\n      <td>0</td>\n    </tr>\n    <tr>\n      <th>4</th>\n      <td>4</td>\n      <td>AL</td>\n      <td>1</td>\n      <td>4</td>\n      <td>4</td>\n      <td>56237</td>\n      <td>261553</td>\n      <td>0</td>\n      <td>0.176963</td>\n      <td>0.823037</td>\n      <td>0.000000</td>\n      <td>0</td>\n      <td>1</td>\n      <td>0</td>\n    </tr>\n  </tbody>\n</table>\n</div>"
     },
     "metadata": {},
     "execution_count": 96
    }
   ],
   "source": [
    "house_results = pd.read_csv(\"vote_results/clean_csv_11_23/house.csv\")\n",
    "house_results.head()"
   ]
  },
  {
   "source": [
    "## Load election predictions (based on 2016 election results)"
   ],
   "cell_type": "markdown",
   "metadata": {}
  },
  {
   "cell_type": "code",
   "execution_count": 97,
   "metadata": {},
   "outputs": [],
   "source": [
    "# Get predictions for each congressional district\n",
    "housedist_to_party = pickle.load(open(\"baselines.pkl\", \"rb\"))[1]\n",
    "\n",
    "# Map state name to STATEFP\n",
    "state_to_statefp = {}\n",
    "\n",
    "for i, row in house_results.iterrows():\n",
    "    state = us.states.lookup(row['state_id']).name.lower()\n",
    "    state_to_statefp[state] = row['STATEFP']\n",
    "\n",
    "statefp_to_state = {v: k for k, v in state_to_statefp.items()}"
   ]
  },
  {
   "source": [
    "## Load COVID-19 congressional district data from Harvard + Microsoft AI for Health"
   ],
   "cell_type": "markdown",
   "metadata": {}
  },
  {
   "cell_type": "code",
   "execution_count": 98,
   "metadata": {},
   "outputs": [
    {
     "output_type": "execute_result",
     "data": {
      "text/plain": [
       "        Date  STATEFP state_id StateName  CD114FP  incremental_cases  \\\n",
       "0 2020-01-22        1       AL   Alabama        1                0.0   \n",
       "1 2020-01-23        1       AL   Alabama        1                0.0   \n",
       "2 2020-01-24        1       AL   Alabama        1                0.0   \n",
       "3 2020-01-25        1       AL   Alabama        1                0.0   \n",
       "4 2020-01-26        1       AL   Alabama        1                0.0   \n",
       "\n",
       "   incremental_deaths  \n",
       "0                 0.0  \n",
       "1                 0.0  \n",
       "2                 0.0  \n",
       "3                 0.0  \n",
       "4                 0.0  "
      ],
      "text/html": "<div>\n<style scoped>\n    .dataframe tbody tr th:only-of-type {\n        vertical-align: middle;\n    }\n\n    .dataframe tbody tr th {\n        vertical-align: top;\n    }\n\n    .dataframe thead th {\n        text-align: right;\n    }\n</style>\n<table border=\"1\" class=\"dataframe\">\n  <thead>\n    <tr style=\"text-align: right;\">\n      <th></th>\n      <th>Date</th>\n      <th>STATEFP</th>\n      <th>state_id</th>\n      <th>StateName</th>\n      <th>CD114FP</th>\n      <th>incremental_cases</th>\n      <th>incremental_deaths</th>\n    </tr>\n  </thead>\n  <tbody>\n    <tr>\n      <th>0</th>\n      <td>2020-01-22</td>\n      <td>1</td>\n      <td>AL</td>\n      <td>Alabama</td>\n      <td>1</td>\n      <td>0.0</td>\n      <td>0.0</td>\n    </tr>\n    <tr>\n      <th>1</th>\n      <td>2020-01-23</td>\n      <td>1</td>\n      <td>AL</td>\n      <td>Alabama</td>\n      <td>1</td>\n      <td>0.0</td>\n      <td>0.0</td>\n    </tr>\n    <tr>\n      <th>2</th>\n      <td>2020-01-24</td>\n      <td>1</td>\n      <td>AL</td>\n      <td>Alabama</td>\n      <td>1</td>\n      <td>0.0</td>\n      <td>0.0</td>\n    </tr>\n    <tr>\n      <th>3</th>\n      <td>2020-01-25</td>\n      <td>1</td>\n      <td>AL</td>\n      <td>Alabama</td>\n      <td>1</td>\n      <td>0.0</td>\n      <td>0.0</td>\n    </tr>\n    <tr>\n      <th>4</th>\n      <td>2020-01-26</td>\n      <td>1</td>\n      <td>AL</td>\n      <td>Alabama</td>\n      <td>1</td>\n      <td>0.0</td>\n      <td>0.0</td>\n    </tr>\n  </tbody>\n</table>\n</div>"
     },
     "metadata": {},
     "execution_count": 98
    }
   ],
   "source": [
    "# Get COVID CD data\n",
    "covid_cd = pd.read_csv(\"data/clean-covid-cd.csv\")\n",
    "covid_cd[\"Date\"] = pd.to_datetime(covid_cd[\"Date\"])\n",
    "covid_cd.head()"
   ]
  },
  {
   "source": [
    "## Merge DataFrames to include COVID cases, COVID deaths, and election predictions"
   ],
   "cell_type": "markdown",
   "metadata": {}
  },
  {
   "cell_type": "code",
   "execution_count": 110,
   "metadata": {},
   "outputs": [],
   "source": [
    "# Prepare COVID CD numbers in 5 sets\n",
    "covid_datasets = list()\n",
    "# 1. Up to Election Day (Nov. 3rd) by congressional district\n",
    "covid_election_day = covid_cd.groupby([\"STATEFP\", \"CD114FP\", \"state_id\"]).sum()\n",
    "covid_election_day = covid_election_day.add_suffix(\"_total\").reset_index()\n",
    "covid_election_day[\"CD114FP\"][covid_election_day[\"CD114FP\"] == 0] = 1\n",
    "covid_datasets.append(covid_election_day)\n",
    "\n",
    "# 2-5. Excluding 1-2-3-4 weeks (respectively) worth of COVID data\n",
    "for i in range(1, 5):\n",
    "    excluded_weeks = datetime.timedelta(days=7*i)\n",
    "    cut = datetime.datetime(2020, 11, 3) - excluded_weeks\n",
    "    covid_data = covid_cd[covid_cd[\"Date\"] <= cut]\n",
    "    covid_data = covid_data.groupby([\"STATEFP\", \"CD114FP\", \"state_id\"]).sum()\n",
    "    covid_data = covid_data.add_suffix(\"_total\").reset_index()\n",
    "    covid_data[\"CD114FP\"][covid_data[\"CD114FP\"] == 0] = 1\n",
    "    covid_datasets.append(covid_data)"
   ]
  },
  {
   "cell_type": "code",
   "execution_count": 111,
   "metadata": {},
   "outputs": [],
   "source": [
    "house_datasets = list()\n",
    "\n",
    "for dataset in covid_datasets:\n",
    "    # Merge COVID CD data with house results\n",
    "    house_results[\"covid_total\"] = None\n",
    "    house_results[\"covid_deaths\"] = None\n",
    "    house_results[\"d_predicted\"] = None\n",
    "    house_results[\"r_predicted\"] = None\n",
    "\n",
    "    for i, row in dataset.iterrows():\n",
    "        statefp = row[\"STATEFP\"]\n",
    "        if statefp == 11: # skip DC\n",
    "            continue\n",
    "        cd = row[\"CD114FP\"]\n",
    "        predicted_winner = housedist_to_party[statefp_to_state[statefp] + str(cd)]\n",
    "        house_results[\"d_predicted\"][(house_results[\"STATEFP\"] == statefp) & (house_results[\"CD114FP\"] == cd)] = 1 if predicted_winner == \"democrat\" else 0\n",
    "        house_results[\"r_predicted\"][(house_results[\"STATEFP\"] == statefp) & (house_results[\"CD114FP\"] == cd)] = 1 if predicted_winner == \"republican\" else 0\n",
    "        house_results[\"covid_total\"][(house_results[\"STATEFP\"] == statefp) & (house_results[\"CD114FP\"] == cd)] = row[\"incremental_cases_total\"]\n",
    "        house_results[\"covid_deaths\"][(house_results[\"STATEFP\"] == statefp) & (house_results[\"CD114FP\"] == cd)] = row[\"incremental_deaths_total\"]\n",
    "    house_datasets.append(house_results)"
   ]
  },
  {
   "source": [
    "## 1. Predictions with COVID-19 data AND past election results"
   ],
   "cell_type": "markdown",
   "metadata": {}
  },
  {
   "cell_type": "code",
   "execution_count": 118,
   "metadata": {},
   "outputs": [
    {
     "output_type": "stream",
     "name": "stdout",
     "text": [
      "--------- COVID DATA EXCLUDING 0 WEEK(S) PRIOR TO NOV 3 ---------\n",
      "Accuracy LR: 0.95683, RF: 0.95683\n",
      "F1 for LR: 0.9625, RF: 0.9625\n",
      "AUC for LR: 0.9551, RF: 0.9669\n",
      "\n",
      "--------- COVID DATA EXCLUDING 1 WEEK(S) PRIOR TO NOV 3 ---------\n",
      "Accuracy LR: 0.94245, RF: 0.93525\n",
      "F1 for LR: 0.9459, RF: 0.9388\n",
      "AUC for LR: 0.9595, RF: 0.9636\n",
      "\n",
      "--------- COVID DATA EXCLUDING 2 WEEK(S) PRIOR TO NOV 3 ---------\n",
      "Accuracy LR: 0.96403, RF: 0.96403\n",
      "F1 for LR: 0.9689, RF: 0.9689\n",
      "AUC for LR: 0.9749, RF: 0.9783\n",
      "\n",
      "--------- COVID DATA EXCLUDING 3 WEEK(S) PRIOR TO NOV 3 ---------\n",
      "Accuracy LR: 0.93525, RF: 0.93525\n",
      "F1 for LR: 0.9302, RF: 0.9302\n",
      "AUC for LR: 0.9451, RF: 0.9424\n",
      "\n",
      "--------- COVID DATA EXCLUDING 4 WEEK(S) PRIOR TO NOV 3 ---------\n",
      "Accuracy LR: 0.64029, RF: 0.95683\n",
      "F1 for LR: 0.6479, RF: 0.9605\n",
      "AUC for LR: 0.6773, RF: 0.9603\n",
      "\n"
     ]
    }
   ],
   "source": [
    "for index, house_dataset in enumerate(house_datasets):\n",
    "    # Get predictions with covid\n",
    "    features = pd.DataFrame()\n",
    "    features[\"covid_total\"] = house_dataset[\"covid_total\"]\n",
    "    features[\"covid_deaths\"] = house_dataset[\"covid_deaths\"]\n",
    "    # Getting d_predicted because d_predicted = ~r_predicted\n",
    "    features[\"d_predicted\"] = house_dataset[\"d_predicted\"]\n",
    "\n",
    "    # Getting d_won because d_won = ~r_won\n",
    "    labels = house_dataset[\"d_won\"]\n",
    "\n",
    "    train_X, test_X, train_y, test_y = train_test_split(features, labels, test_size=0.33)\n",
    "\n",
    "    log_reg = LogisticRegression(C=reg, class_weight=\"balanced\").fit(train_X, train_y)\n",
    "    rdm_for = RandomForestClassifier(max_depth=max_depth, class_weight=\"balanced\").fit(train_X, train_y)\n",
    "    log_reg_score = log_reg.score(test_X, test_y)\n",
    "    rdm_for_score = rdm_for.score(test_X, test_y)\n",
    "    log_reg_f1score = f1_score(test_y, log_reg.predict(test_X))\n",
    "    rdm_for_f1score = f1_score(test_y, rdm_for.predict(test_X))\n",
    "    log_reg_auc = roc_auc_score(test_y, log_reg.predict_proba(test_X)[:, 1])\n",
    "    rdm_for_auc = roc_auc_score(test_y, rdm_for.predict_proba(test_X)[:, 1])\n",
    "\n",
    "    print(f\"--------- COVID DATA EXCLUDING {index} WEEK(S) PRIOR TO NOV 3 ---------\")\n",
    "    print(\"Accuracy LR: {0}, RF: {1}\".format(round(log_reg_score, 5), round(rdm_for_score, 5)))\n",
    "    print(\"F1 for LR: {0}, RF: {1}\".format(round(log_reg_f1score, 4), round(rdm_for_f1score, 4)))\n",
    "    print(\"AUC for LR: {0}, RF: {1}\\n\".format(round(log_reg_auc, 4), round(rdm_for_auc, 4)))"
   ]
  },
  {
   "source": [
    "## 2. Predictions ONLY with past election results"
   ],
   "cell_type": "markdown",
   "metadata": {}
  },
  {
   "cell_type": "code",
   "execution_count": 119,
   "metadata": {},
   "outputs": [
    {
     "output_type": "stream",
     "name": "stdout",
     "text": [
      "--------- COVID DATA EXCLUDING 0 WEEK(S) PRIOR TO NOV 3 ---------\n",
      "Accuracy LR: 0.97842, RF: 0.97842\n",
      "F1 for LR: 0.9804, RF: 0.9804\n",
      "AUC for LR: 0.9789, RF: 0.9789\n",
      "\n",
      "--------- COVID DATA EXCLUDING 1 WEEK(S) PRIOR TO NOV 3 ---------\n",
      "Accuracy LR: 0.96403, RF: 0.96403\n",
      "F1 for LR: 0.9645, RF: 0.9645\n",
      "AUC for LR: 0.9642, RF: 0.9642\n",
      "\n",
      "--------- COVID DATA EXCLUDING 2 WEEK(S) PRIOR TO NOV 3 ---------\n",
      "Accuracy LR: 0.95683, RF: 0.95683\n",
      "F1 for LR: 0.9643, RF: 0.9643\n",
      "AUC for LR: 0.9549, RF: 0.9549\n",
      "\n",
      "--------- COVID DATA EXCLUDING 3 WEEK(S) PRIOR TO NOV 3 ---------\n",
      "Accuracy LR: 0.96403, RF: 0.96403\n",
      "F1 for LR: 0.96, RF: 0.96\n",
      "AUC for LR: 0.9662, RF: 0.9662\n",
      "\n",
      "--------- COVID DATA EXCLUDING 4 WEEK(S) PRIOR TO NOV 3 ---------\n",
      "Accuracy LR: 0.95683, RF: 0.95683\n",
      "F1 for LR: 0.961, RF: 0.961\n",
      "AUC for LR: 0.9551, RF: 0.9551\n",
      "\n"
     ]
    }
   ],
   "source": [
    "for index, house_dataset in enumerate(house_datasets):\n",
    "    # Get predictions WITHOUT covid\n",
    "    features = pd.DataFrame()\n",
    "    # Getting d_predicted because d_predicted = ~r_predicted\n",
    "    features[\"d_predicted\"] = house_dataset[\"d_predicted\"]\n",
    "\n",
    "    # Getting d_won because d_won = ~r_won\n",
    "    labels = house_dataset[\"d_won\"]\n",
    "\n",
    "    train_X, test_X, train_y, test_y = train_test_split(features, labels, test_size=0.33)\n",
    "\n",
    "    log_reg = LogisticRegression(C=reg, class_weight=\"balanced\").fit(train_X, train_y)\n",
    "    rdm_for = RandomForestClassifier(max_depth=max_depth, class_weight=\"balanced\").fit(train_X, train_y)\n",
    "    log_reg_score = log_reg.score(test_X, test_y)\n",
    "    rdm_for_score = rdm_for.score(test_X, test_y)\n",
    "    log_reg_f1score = f1_score(test_y, log_reg.predict(test_X))\n",
    "    rdm_for_f1score = f1_score(test_y, rdm_for.predict(test_X))\n",
    "    log_reg_auc = roc_auc_score(test_y, log_reg.predict_proba(test_X)[:, 1])\n",
    "    rdm_for_auc = roc_auc_score(test_y, rdm_for.predict_proba(test_X)[:, 1])\n",
    "\n",
    "    print(f\"--------- COVID DATA EXCLUDING {index} WEEK(S) PRIOR TO NOV 3 ---------\")\n",
    "    print(\"Accuracy LR: {0}, RF: {1}\".format(round(log_reg_score, 5), round(rdm_for_score, 5)))\n",
    "    print(\"F1 for LR: {0}, RF: {1}\".format(round(log_reg_f1score, 4), round(rdm_for_f1score, 4)))\n",
    "    print(\"AUC for LR: {0}, RF: {1}\\n\".format(round(log_reg_auc, 4), round(rdm_for_auc, 4)))"
   ]
  },
  {
   "source": [
    "## 3. Predictions with ONLY COVID-19 data"
   ],
   "cell_type": "markdown",
   "metadata": {}
  },
  {
   "cell_type": "code",
   "execution_count": 120,
   "metadata": {},
   "outputs": [
    {
     "output_type": "stream",
     "name": "stdout",
     "text": [
      "--------- COVID DATA EXCLUDING 0 WEEK(S) PRIOR TO NOV 3 ---------\n",
      "Accuracy LR: 0.68345, RF: 0.69784\n",
      "F1 for LR: 0.6944, RF: 0.7123\n",
      "AUC for LR: 0.7689, RF: 0.7802\n",
      "\n",
      "--------- COVID DATA EXCLUDING 1 WEEK(S) PRIOR TO NOV 3 ---------\n",
      "Accuracy LR: 0.65468, RF: 0.6259\n",
      "F1 for LR: 0.6712, RF: 0.6533\n",
      "AUC for LR: 0.7231, RF: 0.7443\n",
      "\n",
      "--------- COVID DATA EXCLUDING 2 WEEK(S) PRIOR TO NOV 3 ---------\n",
      "Accuracy LR: 0.61151, RF: 0.61871\n",
      "F1 for LR: 0.6143, RF: 0.6241\n",
      "AUC for LR: 0.7313, RF: 0.7572\n",
      "\n",
      "--------- COVID DATA EXCLUDING 3 WEEK(S) PRIOR TO NOV 3 ---------\n",
      "Accuracy LR: 0.63309, RF: 0.64029\n",
      "F1 for LR: 0.6107, RF: 0.5763\n",
      "AUC for LR: 0.7304, RF: 0.7577\n",
      "\n",
      "--------- COVID DATA EXCLUDING 4 WEEK(S) PRIOR TO NOV 3 ---------\n",
      "Accuracy LR: 0.64029, RF: 0.68345\n",
      "F1 for LR: 0.6094, RF: 0.6508\n",
      "AUC for LR: 0.7341, RF: 0.7878\n",
      "\n"
     ]
    }
   ],
   "source": [
    " for index, house_dataset in enumerate(house_datasets):\n",
    "    # Get predictions with covid\n",
    "\n",
    "    features = pd.DataFrame()\n",
    "    features[\"covid_total\"] = house_dataset[\"covid_total\"]\n",
    "    features[\"covid_deaths\"] = house_dataset[\"covid_deaths\"]\n",
    "\n",
    "    # Getting d_won because d_won = ~r_won\n",
    "    labels = house_dataset[\"d_won\"]\n",
    "\n",
    "    train_X, test_X, train_y, test_y = train_test_split(features, labels, test_size=0.33)\n",
    "\n",
    "    log_reg = LogisticRegression(C=reg, class_weight=\"balanced\").fit(train_X, train_y)\n",
    "    rdm_for = RandomForestClassifier(max_depth=max_depth, class_weight=\"balanced\").fit(train_X, train_y)\n",
    "    log_reg_score = log_reg.score(test_X, test_y)\n",
    "    rdm_for_score = rdm_for.score(test_X, test_y)\n",
    "    log_reg_f1score = f1_score(test_y, log_reg.predict(test_X))\n",
    "    rdm_for_f1score = f1_score(test_y, rdm_for.predict(test_X))\n",
    "    log_reg_auc = roc_auc_score(test_y, log_reg.predict_proba(test_X)[:, 1])\n",
    "    rdm_for_auc = roc_auc_score(test_y, rdm_for.predict_proba(test_X)[:, 1])\n",
    "\n",
    "    print(f\"--------- COVID DATA EXCLUDING {index} WEEK(S) PRIOR TO NOV 3 ---------\")\n",
    "    print(\"Accuracy LR: {0}, RF: {1}\".format(round(log_reg_score, 5), round(rdm_for_score, 5)))\n",
    "    print(\"F1 for LR: {0}, RF: {1}\".format(round(log_reg_f1score, 4), round(rdm_for_f1score, 4)))\n",
    "    print(\"AUC for LR: {0}, RF: {1}\\n\".format(round(log_reg_auc, 4), round(rdm_for_auc, 4)))"
   ]
  },
  {
   "cell_type": "code",
   "execution_count": null,
   "metadata": {},
   "outputs": [],
   "source": []
  }
 ]
}