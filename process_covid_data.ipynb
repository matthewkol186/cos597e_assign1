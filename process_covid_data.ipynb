{
 "metadata": {
  "language_info": {
   "codemirror_mode": {
    "name": "ipython",
    "version": 3
   },
   "file_extension": ".py",
   "mimetype": "text/x-python",
   "name": "python",
   "nbconvert_exporter": "python",
   "pygments_lexer": "ipython3",
   "version": "3.7.7-final"
  },
  "orig_nbformat": 2,
  "kernelspec": {
   "name": "python3",
   "display_name": "Python 3"
  }
 },
 "nbformat": 4,
 "nbformat_minor": 2,
 "cells": [
  {
   "cell_type": "code",
   "execution_count": 1,
   "metadata": {},
   "outputs": [],
   "source": [
    "import pandas as pd "
   ]
  },
  {
   "cell_type": "code",
   "execution_count": 2,
   "metadata": {},
   "outputs": [
    {
     "output_type": "execute_result",
     "data": {
      "text/plain": [
       "         Date  StateCode StateAbbreviation StateName  Congressional District  \\\n",
       "0  2020-01-22          1                AL   Alabama                       1   \n",
       "1  2020-01-23          1                AL   Alabama                       1   \n",
       "2  2020-01-24          1                AL   Alabama                       1   \n",
       "3  2020-01-25          1                AL   Alabama                       1   \n",
       "4  2020-01-26          1                AL   Alabama                       1   \n",
       "\n",
       "   incremental_cases  incremental_deaths  \n",
       "0                0.0                 0.0  \n",
       "1                0.0                 0.0  \n",
       "2                0.0                 0.0  \n",
       "3                0.0                 0.0  \n",
       "4                0.0                 0.0  "
      ],
      "text/html": "<div>\n<style scoped>\n    .dataframe tbody tr th:only-of-type {\n        vertical-align: middle;\n    }\n\n    .dataframe tbody tr th {\n        vertical-align: top;\n    }\n\n    .dataframe thead th {\n        text-align: right;\n    }\n</style>\n<table border=\"1\" class=\"dataframe\">\n  <thead>\n    <tr style=\"text-align: right;\">\n      <th></th>\n      <th>Date</th>\n      <th>StateCode</th>\n      <th>StateAbbreviation</th>\n      <th>StateName</th>\n      <th>Congressional District</th>\n      <th>incremental_cases</th>\n      <th>incremental_deaths</th>\n    </tr>\n  </thead>\n  <tbody>\n    <tr>\n      <th>0</th>\n      <td>2020-01-22</td>\n      <td>1</td>\n      <td>AL</td>\n      <td>Alabama</td>\n      <td>1</td>\n      <td>0.0</td>\n      <td>0.0</td>\n    </tr>\n    <tr>\n      <th>1</th>\n      <td>2020-01-23</td>\n      <td>1</td>\n      <td>AL</td>\n      <td>Alabama</td>\n      <td>1</td>\n      <td>0.0</td>\n      <td>0.0</td>\n    </tr>\n    <tr>\n      <th>2</th>\n      <td>2020-01-24</td>\n      <td>1</td>\n      <td>AL</td>\n      <td>Alabama</td>\n      <td>1</td>\n      <td>0.0</td>\n      <td>0.0</td>\n    </tr>\n    <tr>\n      <th>3</th>\n      <td>2020-01-25</td>\n      <td>1</td>\n      <td>AL</td>\n      <td>Alabama</td>\n      <td>1</td>\n      <td>0.0</td>\n      <td>0.0</td>\n    </tr>\n    <tr>\n      <th>4</th>\n      <td>2020-01-26</td>\n      <td>1</td>\n      <td>AL</td>\n      <td>Alabama</td>\n      <td>1</td>\n      <td>0.0</td>\n      <td>0.0</td>\n    </tr>\n  </tbody>\n</table>\n</div>"
     },
     "metadata": {},
     "execution_count": 2
    }
   ],
   "source": [
    "covid_cd = pd.read_csv(\"data/covid-congr-district.csv\")\n",
    "covid_cd.head()"
   ]
  },
  {
   "cell_type": "code",
   "execution_count": 3,
   "metadata": {},
   "outputs": [
    {
     "output_type": "execute_result",
     "data": {
      "text/plain": [
       "              Date  STATEFP state_id StateName  CD114FP  incremental_cases  \\\n",
       "0       2020-01-22        1       AL   Alabama        1                0.0   \n",
       "1       2020-01-23        1       AL   Alabama        1                0.0   \n",
       "2       2020-01-24        1       AL   Alabama        1                0.0   \n",
       "3       2020-01-25        1       AL   Alabama        1                0.0   \n",
       "4       2020-01-26        1       AL   Alabama        1                0.0   \n",
       "...            ...      ...      ...       ...      ...                ...   \n",
       "132103  2020-11-15       56       WY   Wyoming        0                0.0   \n",
       "132104  2020-11-16       56       WY   Wyoming        0              728.0   \n",
       "132105  2020-11-17       56       WY   Wyoming        0             1260.0   \n",
       "132106  2020-11-18       56       WY   Wyoming        0              822.0   \n",
       "132107  2020-11-19       56       WY   Wyoming        0              894.0   \n",
       "\n",
       "        incremental_deaths  \n",
       "0                      0.0  \n",
       "1                      0.0  \n",
       "2                      0.0  \n",
       "3                      0.0  \n",
       "4                      0.0  \n",
       "...                    ...  \n",
       "132103                 0.0  \n",
       "132104                18.0  \n",
       "132105                11.0  \n",
       "132106                 0.0  \n",
       "132107                21.0  \n",
       "\n",
       "[132108 rows x 7 columns]"
      ],
      "text/html": "<div>\n<style scoped>\n    .dataframe tbody tr th:only-of-type {\n        vertical-align: middle;\n    }\n\n    .dataframe tbody tr th {\n        vertical-align: top;\n    }\n\n    .dataframe thead th {\n        text-align: right;\n    }\n</style>\n<table border=\"1\" class=\"dataframe\">\n  <thead>\n    <tr style=\"text-align: right;\">\n      <th></th>\n      <th>Date</th>\n      <th>STATEFP</th>\n      <th>state_id</th>\n      <th>StateName</th>\n      <th>CD114FP</th>\n      <th>incremental_cases</th>\n      <th>incremental_deaths</th>\n    </tr>\n  </thead>\n  <tbody>\n    <tr>\n      <th>0</th>\n      <td>2020-01-22</td>\n      <td>1</td>\n      <td>AL</td>\n      <td>Alabama</td>\n      <td>1</td>\n      <td>0.0</td>\n      <td>0.0</td>\n    </tr>\n    <tr>\n      <th>1</th>\n      <td>2020-01-23</td>\n      <td>1</td>\n      <td>AL</td>\n      <td>Alabama</td>\n      <td>1</td>\n      <td>0.0</td>\n      <td>0.0</td>\n    </tr>\n    <tr>\n      <th>2</th>\n      <td>2020-01-24</td>\n      <td>1</td>\n      <td>AL</td>\n      <td>Alabama</td>\n      <td>1</td>\n      <td>0.0</td>\n      <td>0.0</td>\n    </tr>\n    <tr>\n      <th>3</th>\n      <td>2020-01-25</td>\n      <td>1</td>\n      <td>AL</td>\n      <td>Alabama</td>\n      <td>1</td>\n      <td>0.0</td>\n      <td>0.0</td>\n    </tr>\n    <tr>\n      <th>4</th>\n      <td>2020-01-26</td>\n      <td>1</td>\n      <td>AL</td>\n      <td>Alabama</td>\n      <td>1</td>\n      <td>0.0</td>\n      <td>0.0</td>\n    </tr>\n    <tr>\n      <th>...</th>\n      <td>...</td>\n      <td>...</td>\n      <td>...</td>\n      <td>...</td>\n      <td>...</td>\n      <td>...</td>\n      <td>...</td>\n    </tr>\n    <tr>\n      <th>132103</th>\n      <td>2020-11-15</td>\n      <td>56</td>\n      <td>WY</td>\n      <td>Wyoming</td>\n      <td>0</td>\n      <td>0.0</td>\n      <td>0.0</td>\n    </tr>\n    <tr>\n      <th>132104</th>\n      <td>2020-11-16</td>\n      <td>56</td>\n      <td>WY</td>\n      <td>Wyoming</td>\n      <td>0</td>\n      <td>728.0</td>\n      <td>18.0</td>\n    </tr>\n    <tr>\n      <th>132105</th>\n      <td>2020-11-17</td>\n      <td>56</td>\n      <td>WY</td>\n      <td>Wyoming</td>\n      <td>0</td>\n      <td>1260.0</td>\n      <td>11.0</td>\n    </tr>\n    <tr>\n      <th>132106</th>\n      <td>2020-11-18</td>\n      <td>56</td>\n      <td>WY</td>\n      <td>Wyoming</td>\n      <td>0</td>\n      <td>822.0</td>\n      <td>0.0</td>\n    </tr>\n    <tr>\n      <th>132107</th>\n      <td>2020-11-19</td>\n      <td>56</td>\n      <td>WY</td>\n      <td>Wyoming</td>\n      <td>0</td>\n      <td>894.0</td>\n      <td>21.0</td>\n    </tr>\n  </tbody>\n</table>\n<p>132108 rows × 7 columns</p>\n</div>"
     },
     "metadata": {},
     "execution_count": 3
    }
   ],
   "source": [
    "covid_cd.rename(columns = { \n",
    "    \"StateCode\": \"STATEFP\",\n",
    "    \"StateAbbreviation\": \"state_id\",\n",
    "    \"Congressional District\": \"CD114FP\"\n",
    "})"
   ]
  },
  {
   "cell_type": "code",
   "execution_count": 4,
   "metadata": {},
   "outputs": [],
   "source": [
    "covid_cd.to_csv(\"data/clean-covid-cd.csv\", index=False)"
   ]
  },
  {
   "cell_type": "code",
   "execution_count": null,
   "metadata": {},
   "outputs": [],
   "source": []
  }
 ]
}