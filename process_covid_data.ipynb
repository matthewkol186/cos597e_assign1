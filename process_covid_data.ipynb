{
 "metadata": {
  "language_info": {
   "codemirror_mode": {
    "name": "ipython",
    "version": 3
   },
   "file_extension": ".py",
   "mimetype": "text/x-python",
   "name": "python",
   "nbconvert_exporter": "python",
   "pygments_lexer": "ipython3",
   "version": "3.7.7-final"
  },
  "orig_nbformat": 2,
  "kernelspec": {
   "name": "python3",
   "display_name": "Python 3"
  }
 },
 "nbformat": 4,
 "nbformat_minor": 2,
 "cells": [
  {
   "cell_type": "code",
   "execution_count": 16,
   "metadata": {},
   "outputs": [],
   "source": [
    "import pandas as pd "
   ]
  },
  {
   "cell_type": "code",
   "execution_count": 17,
   "metadata": {},
   "outputs": [
    {
     "output_type": "execute_result",
     "data": {
      "text/plain": [
       "         Date  StateCode StateAbbreviation StateName  Congressional District  \\\n",
       "0  2020-01-22          1                AL   Alabama                       1   \n",
       "1  2020-01-23          1                AL   Alabama                       1   \n",
       "2  2020-01-24          1                AL   Alabama                       1   \n",
       "3  2020-01-25          1                AL   Alabama                       1   \n",
       "4  2020-01-26          1                AL   Alabama                       1   \n",
       "\n",
       "   incremental_cases  incremental_deaths  \n",
       "0                0.0                 0.0  \n",
       "1                0.0                 0.0  \n",
       "2                0.0                 0.0  \n",
       "3                0.0                 0.0  \n",
       "4                0.0                 0.0  "
      ],
      "text/html": "<div>\n<style scoped>\n    .dataframe tbody tr th:only-of-type {\n        vertical-align: middle;\n    }\n\n    .dataframe tbody tr th {\n        vertical-align: top;\n    }\n\n    .dataframe thead th {\n        text-align: right;\n    }\n</style>\n<table border=\"1\" class=\"dataframe\">\n  <thead>\n    <tr style=\"text-align: right;\">\n      <th></th>\n      <th>Date</th>\n      <th>StateCode</th>\n      <th>StateAbbreviation</th>\n      <th>StateName</th>\n      <th>Congressional District</th>\n      <th>incremental_cases</th>\n      <th>incremental_deaths</th>\n    </tr>\n  </thead>\n  <tbody>\n    <tr>\n      <th>0</th>\n      <td>2020-01-22</td>\n      <td>1</td>\n      <td>AL</td>\n      <td>Alabama</td>\n      <td>1</td>\n      <td>0.0</td>\n      <td>0.0</td>\n    </tr>\n    <tr>\n      <th>1</th>\n      <td>2020-01-23</td>\n      <td>1</td>\n      <td>AL</td>\n      <td>Alabama</td>\n      <td>1</td>\n      <td>0.0</td>\n      <td>0.0</td>\n    </tr>\n    <tr>\n      <th>2</th>\n      <td>2020-01-24</td>\n      <td>1</td>\n      <td>AL</td>\n      <td>Alabama</td>\n      <td>1</td>\n      <td>0.0</td>\n      <td>0.0</td>\n    </tr>\n    <tr>\n      <th>3</th>\n      <td>2020-01-25</td>\n      <td>1</td>\n      <td>AL</td>\n      <td>Alabama</td>\n      <td>1</td>\n      <td>0.0</td>\n      <td>0.0</td>\n    </tr>\n    <tr>\n      <th>4</th>\n      <td>2020-01-26</td>\n      <td>1</td>\n      <td>AL</td>\n      <td>Alabama</td>\n      <td>1</td>\n      <td>0.0</td>\n      <td>0.0</td>\n    </tr>\n  </tbody>\n</table>\n</div>"
     },
     "metadata": {},
     "execution_count": 17
    }
   ],
   "source": [
    "covid_cd = pd.read_csv(\"data/covid-congr-district.csv\")\n",
    "covid_cd.head()"
   ]
  },
  {
   "cell_type": "code",
   "execution_count": 18,
   "metadata": {},
   "outputs": [],
   "source": [
    "covid_cd = covid_cd.rename(columns = { \n",
    "    \"StateCode\": \"STATEFP\",\n",
    "    \"StateAbbreviation\": \"state_id\",\n",
    "    \"Congressional District\": \"CD114FP\"\n",
    "})"
   ]
  },
  {
   "cell_type": "code",
   "execution_count": 19,
   "metadata": {},
   "outputs": [],
   "source": [
    "# Discard data after Nov 3rd\n",
    "import datetime\n",
    "covid_cd[\"Date\"] = pd.to_datetime(covid_cd[\"Date\"])\n",
    "clean_data = covid_cd[covid_cd[\"Date\"] <= datetime.datetime(2020, 11, 3)]"
   ]
  },
  {
   "cell_type": "code",
   "execution_count": 20,
   "metadata": {},
   "outputs": [],
   "source": [
    "clean_data.to_csv(\"data/clean-covid-cd.csv\", index=False)"
   ]
  },
  {
   "cell_type": "code",
   "execution_count": null,
   "metadata": {},
   "outputs": [],
   "source": []
  }
 ]
}