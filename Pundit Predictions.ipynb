{
 "cells": [
  {
   "cell_type": "code",
   "execution_count": 19,
   "metadata": {},
   "outputs": [],
   "source": [
    "import numpy as np\n",
    "import csv\n",
    "import pandas as pd\n",
    "from datetime import datetime\n",
    "import pickle\n",
    "import us"
   ]
  },
  {
   "cell_type": "code",
   "execution_count": 20,
   "metadata": {},
   "outputs": [
    {
     "name": "stdout",
     "output_type": "stream",
     "text": [
      "   cycle branch district forecastdate expression             name_D1 name_D2  \\\n",
      "0   2020  House     WY-1     10/23/20      _lite  Lynnette Grey Bull     NaN   \n",
      "1   2020  House     WV-3     10/23/20      _lite       Hilary Turner     NaN   \n",
      "2   2020  House     WV-2     10/23/20      _lite        Cathy Kunkel     NaN   \n",
      "3   2020  House     WV-1     10/23/20      _lite       Natalie Cline     NaN   \n",
      "4   2020  House     WI-8     10/23/20      _lite        Amanda Stuck     NaN   \n",
      "\n",
      "  name_D3 name_D4      name_I1          ...          wonrunoff_R2  \\\n",
      "0     NaN     NaN          NaN          ...                   NaN   \n",
      "1     NaN     NaN          NaN          ...                   NaN   \n",
      "2     NaN     NaN          NaN          ...                   NaN   \n",
      "3     NaN     NaN  David Moran          ...                   NaN   \n",
      "4     NaN     NaN          NaN          ...                   NaN   \n",
      "\n",
      "  lostrunoff_R2 wonrunoff_R3 lostrunoff_R3 wonrunoff_R4  lostrunoff_R4  \\\n",
      "0           NaN          NaN           NaN          NaN            NaN   \n",
      "1           NaN          NaN           NaN          NaN            NaN   \n",
      "2           NaN          NaN           NaN          NaN            NaN   \n",
      "3           NaN          NaN           NaN          NaN            NaN   \n",
      "4           NaN          NaN           NaN          NaN            NaN   \n",
      "\n",
      "   wonrunoff_I1  lostrunoff_I1  simulations             timestamp  \n",
      "0           NaN            NaN        40000  14:35:27 23 Oct 2020  \n",
      "1           NaN            NaN        40000  14:35:27 23 Oct 2020  \n",
      "2           NaN            NaN        40000  14:35:27 23 Oct 2020  \n",
      "3           NaN            NaN        40000  14:35:27 23 Oct 2020  \n",
      "4           NaN            NaN        40000  14:35:27 23 Oct 2020  \n",
      "\n",
      "[5 rows x 88 columns]\n",
      "Index(['cycle', 'branch', 'district', 'forecastdate', 'expression', 'name_D1',\n",
      "       'name_D2', 'name_D3', 'name_D4', 'name_I1', 'name_R1', 'name_R2',\n",
      "       'name_R3', 'name_R4', 'name_O1', 'winner_D1', 'winner_D2', 'winner_D3',\n",
      "       'winner_D4', 'winner_R1', 'winner_R2', 'winner_R3', 'winner_R4',\n",
      "       'winner_I1', 'winner_O1', 'winner_Dparty', 'winner_Rparty', 'tipping',\n",
      "       'vpi', 'mean_predicted_turnout', 'p90_simmed_turnout_gross',\n",
      "       'p10_simmed_turnout_gross', 'voteshare_mean_D1', 'voteshare_mean_D2',\n",
      "       'voteshare_mean_D3', 'voteshare_mean_D4', 'voteshare_mean_I1',\n",
      "       'voteshare_mean_R1', 'voteshare_mean_R2', 'voteshare_mean_R3',\n",
      "       'voteshare_mean_R4', 'voteshare_mean_O1', 'p90_voteshare_simmed_I1',\n",
      "       'p90_voteshare_simmed_O1', 'p90_voteshare_simmed_D1',\n",
      "       'p90_voteshare_simmed_R1', 'p90_voteshare_simmed_D2',\n",
      "       'p90_voteshare_simmed_R2', 'p90_voteshare_simmed_R3',\n",
      "       'p90_voteshare_simmed_R4', 'p90_voteshare_simmed_D3',\n",
      "       'p90_voteshare_simmed_D4', 'p10_voteshare_simmed_I1',\n",
      "       'p10_voteshare_simmed_O1', 'p10_voteshare_simmed_D1',\n",
      "       'p10_voteshare_simmed_R1', 'p10_voteshare_simmed_D2',\n",
      "       'p10_voteshare_simmed_R2', 'p10_voteshare_simmed_R3',\n",
      "       'p10_voteshare_simmed_R4', 'p10_voteshare_simmed_D3',\n",
      "       'p10_voteshare_simmed_D4', 'pvi_538', 'vep', 'elasticity_district',\n",
      "       'mean_netpartymargin', 'p90_netpartymargin', 'p10_netpartymargin',\n",
      "       'wonrunoff_D1', 'lostrunoff_D1', 'wonrunoff_D2', 'lostrunoff_D2',\n",
      "       'wonrunoff_D3', 'lostrunoff_D3', 'wonrunoff_D4', 'lostrunoff_D4',\n",
      "       'wonrunoff_R1', 'lostrunoff_R1', 'wonrunoff_R2', 'lostrunoff_R2',\n",
      "       'wonrunoff_R3', 'lostrunoff_R3', 'wonrunoff_R4', 'lostrunoff_R4',\n",
      "       'wonrunoff_I1', 'lostrunoff_I1', 'simulations', 'timestamp'],\n",
      "      dtype='object')\n",
      "(109620, 88)\n"
     ]
    }
   ],
   "source": [
    "house = pd.read_csv('data/house_district_toplines_2020.csv', encoding = \"ISO-8859-1\") # winner_Dparty vs winner_Rparty\n",
    "print(house.head())\n",
    "print(house.keys())\n",
    "print(house.shape)"
   ]
  },
  {
   "cell_type": "code",
   "execution_count": 22,
   "metadata": {},
   "outputs": [],
   "source": [
    "housedist_to_party = {}\n",
    "housedist_to_recent = {}\n",
    "\n",
    "\n",
    "datetime.strptime(house['forecastdate'][0], '%m/%d/%y') < datetime.strptime('10/24/20', '%m/%d/%y')\n",
    "\n",
    "for i in range(len(house)):\n",
    "    row = house.iloc[i]\n",
    "    state = us.states.lookup(row['district'].split('-')[0]).name.lower()\n",
    "    district = row['district'].split('-')[1]\n",
    "    housedist = state+district\n",
    "    if state+district not in housedist_to_recent.keys() or housedist_to_recent[housedist] < datetime.strptime(row['forecastdate'], '%m/%d/%y'):\n",
    "        housedist_to_recent[housedist] = datetime.strptime(row['forecastdate'], '%m/%d/%y') \n",
    "        housedist_to_party[housedist] = 'democrat' if row['winner_Dparty'] > row['winner_Rparty'] else 'republican'"
   ]
  },
  {
   "cell_type": "code",
   "execution_count": 23,
   "metadata": {},
   "outputs": [],
   "source": [
    "pickle.dump([{}, housedist_to_party], open('pundits.pkl', 'wb'))"
   ]
  },
  {
   "cell_type": "code",
   "execution_count": null,
   "metadata": {},
   "outputs": [],
   "source": []
  }
 ],
 "metadata": {
  "kernelspec": {
   "display_name": "Python 3",
   "language": "python",
   "name": "python3"
  },
  "language_info": {
   "codemirror_mode": {
    "name": "ipython",
    "version": 3
   },
   "file_extension": ".py",
   "mimetype": "text/x-python",
   "name": "python",
   "nbconvert_exporter": "python",
   "pygments_lexer": "ipython3",
   "version": "3.5.2"
  }
 },
 "nbformat": 4,
 "nbformat_minor": 2
}
