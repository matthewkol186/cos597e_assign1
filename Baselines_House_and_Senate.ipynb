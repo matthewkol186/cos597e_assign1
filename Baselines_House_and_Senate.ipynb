{
 "cells": [
  {
   "cell_type": "code",
   "execution_count": 1,
   "metadata": {},
   "outputs": [],
   "source": [
    "import numpy as np\n",
    "import csv\n",
    "import pandas as pd\n",
    "from datetime import datetime\n",
    "import pickle"
   ]
  },
  {
   "cell_type": "markdown",
   "metadata": {},
   "source": [
    "## Senate"
   ]
  },
  {
   "cell_type": "code",
   "execution_count": 2,
   "metadata": {},
   "outputs": [
    {
     "name": "stdout",
     "output_type": "stream",
     "text": [
      "Index(['year', 'state', 'state_po', 'state_fips', 'state_cen', 'state_ic',\n",
      "       'office', 'district', 'stage', 'special', 'candidate', 'party',\n",
      "       'writein', 'mode', 'candidatevotes', 'totalvotes', 'unofficial',\n",
      "       'version'],\n",
      "      dtype='object')\n"
     ]
    }
   ],
   "source": [
    "senate_df = pd.read_csv('data/1976-2018-senate.csv', encoding = \"ISO-8859-1\")\n",
    "print(senate_df.keys())"
   ]
  },
  {
   "cell_type": "code",
   "execution_count": 3,
   "metadata": {},
   "outputs": [
    {
     "name": "stdout",
     "output_type": "stream",
     "text": [
      "50\n",
      "{'rhode island': 'democrat', 'massachusetts': 'democrat', 'virginia': 'democrat', 'utah': 'republican', 'wyoming': 'republican', 'hawaii': 'democrat', 'nebraska': 'republican', 'texas': 'republican', 'vermont': 'independent', 'washington': 'democrat', 'pennsylvania': 'democrat', 'south carolina': 'republican', 'oklahoma': 'republican', 'louisiana': 'republican', 'oregon': 'democrat', 'kansas': 'republican', 'ohio': 'democrat', 'mississippi': 'republican', 'minnesota': 'democratic-farmer-labor', 'florida': 'republican', 'new york': 'democrat', 'new jersey': 'democrat', 'kentucky': 'republican', 'illinois': 'democrat', 'alaska': 'republican', 'colorado': 'democrat', 'north carolina': 'republican', 'new mexico': 'democrat', 'connecticut': 'democrat', 'montana': 'democrat', 'south dakota': 'republican', 'nevada': 'democrat', 'maryland': 'democrat', 'new hampshire': 'democrat', 'west virginia': 'democrat', 'indiana': 'republican', 'georgia': 'republican', 'alabama': 'republican', 'missouri': 'republican', 'iowa': 'republican', 'north dakota': 'republican', 'michigan': 'democrat', 'wisconsin': 'democrat', 'california': 'democrat', 'arkansas': 'republican', 'maine': 'independent', 'arizona': 'democrat', 'tennessee': 'republican', 'idaho': 'republican', 'delaware': 'democrat'}\n"
     ]
    }
   ],
   "source": [
    "state_to_party = {}\n",
    "\n",
    "# Get each state's most recent party that won\n",
    "for state in np.unique(senate_df['state']):\n",
    "    most_recent_year = np.amax(senate_df[senate_df['state']==state]['year'].astype(int))\n",
    "    most_recent_candidates = senate_df[(senate_df['state']==state) & (senate_df['year'].astype(int)==most_recent_year)].index\n",
    "    party, votes = None, 0\n",
    "    for ind in most_recent_candidates:\n",
    "        cand = senate_df.iloc[ind]\n",
    "        if int(cand['candidatevotes']) > int(votes):\n",
    "            party, votes = cand['party'], cand['candidatevotes']\n",
    "    state_to_party[state.lower()] = party\n",
    "\n",
    "print(len(state_to_party))\n",
    "print(state_to_party)"
   ]
  },
  {
   "cell_type": "markdown",
   "metadata": {},
   "source": [
    "## House"
   ]
  },
  {
   "cell_type": "code",
   "execution_count": 4,
   "metadata": {},
   "outputs": [
    {
     "name": "stdout",
     "output_type": "stream",
     "text": [
      "Index(['year', 'state', 'state_po', 'state_fips', 'state_cen', 'state_ic',\n",
      "       'office', 'district', 'stage', 'runoff', 'special', 'candidate',\n",
      "       'party', 'writein', 'mode', 'candidatevotes', 'totalvotes',\n",
      "       'unofficial', 'version'],\n",
      "      dtype='object')\n"
     ]
    }
   ],
   "source": [
    "house_df = pd.read_csv('data/1976-2018-house2.csv', encoding = \"ISO-8859-1\")\n",
    "print(house_df.keys())"
   ]
  },
  {
   "cell_type": "code",
   "execution_count": 5,
   "metadata": {},
   "outputs": [],
   "source": [
    "house_df['district'] = house_df['district'].replace(0, 1)"
   ]
  },
  {
   "cell_type": "code",
   "execution_count": 6,
   "metadata": {},
   "outputs": [
    {
     "name": "stdout",
     "output_type": "stream",
     "text": [
      "495\n"
     ]
    }
   ],
   "source": [
    "house_df['state_dist'] = house_df['state'].astype(str) + house_df['district'].astype(str)\n",
    "print(len(np.unique(house_df['state_dist'])))"
   ]
  },
  {
   "cell_type": "code",
   "execution_count": 7,
   "metadata": {},
   "outputs": [
    {
     "name": "stdout",
     "output_type": "stream",
     "text": [
      "435\n",
      "{'california1': 'republican', 'texas7': 'democrat', 'hawaii1': 'democrat', 'new york4': 'democrat', 'iowa4': 'republican', 'west virginia1': 'republican', 'texas25': 'republican', 'massachusetts4': 'democrat', 'kentucky4': 'republican', 'arizona4': 'republican', 'maryland6': 'democrat', 'maryland8': 'democrat', 'florida26': 'democrat', 'texas3': 'republican', 'georgia14': 'republican', 'texas23': 'republican', 'west virginia2': 'republican', 'arkansas2': 'republican', 'oregon5': 'democrat', 'pennsylvania15': 'republican', 'california14': 'democrat', 'nebraska1': 'republican', 'mississippi2': 'democrat', 'new york11': 'democrat', 'pennsylvania6': 'democrat', 'new york26': 'democrat', 'ohio12': 'republican', 'georgia6': 'democrat', 'california5': 'democrat', 'tennessee3': 'republican', 'arizona3': 'democrat', 'louisiana5': 'republican', 'illinois3': 'democrat', 'california25': 'democrat', 'texas36': 'republican', 'california26': 'democrat', 'california53': 'democrat', 'new york16': 'democrat', 'pennsylvania2': 'democrat', 'wisconsin3': 'democrat', 'ohio9': 'democrat', 'california20': 'democrat', 'south carolina6': 'democrat', 'new jersey4': 'republican', 'oklahoma4': 'republican', 'tennessee6': 'republican', 'california27': 'democrat', 'arizona6': 'republican', 'south carolina2': 'republican', 'california41': 'democrat', 'wisconsin4': 'democrat', 'california42': 'republican', 'louisiana3': 'republican', 'california40': 'democrat', 'texas11': 'republican', 'new york24': 'democrat', 'florida14': 'democrat', 'michigan12': 'democrat', 'ohio15': 'republican', 'california24': 'democrat', 'arizona5': 'republican', 'oregon2': 'republican', 'pennsylvania13': 'republican', 'nevada1': 'democrat', 'new jersey5': 'democrat', 'georgia1': 'republican', 'massachusetts9': 'democrat', 'new jersey8': 'democrat', 'virginia11': 'democrat', 'ohio14': 'republican', 'kentucky1': 'republican', 'illinois6': 'democrat', 'wisconsin7': 'republican', 'california45': 'democrat', 'texas29': 'democrat', 'washington10': 'democrat', 'wisconsin2': 'democrat', 'massachusetts1': 'democrat', 'new york1': 'democrat', 'massachusetts6': 'democrat', 'new hampshire2': 'democrat', 'arkansas4': 'republican', 'georgia13': 'democrat', 'new york3': 'democrat', 'texas32': 'democrat', 'california32': 'democrat', 'california52': 'democrat', 'indiana9': 'republican', 'texas27': 'republican', 'wyoming1': 'republican', 'tennessee5': 'democrat', 'illinois7': 'democrat', 'texas28': 'democrat', 'california7': 'democrat', 'indiana6': 'republican', 'illinois10': 'democrat', 'north carolina8': 'republican', 'virginia5': 'republican', 'california39': 'democrat', 'florida17': 'republican', 'virginia2': 'democrat', 'illinois18': 'republican', 'illinois4': 'democrat', 'mississippi1': 'republican', 'north dakota1': 'republican', 'arizona2': 'democrat', 'connecticut1': 'democrat', 'north carolina3': 'republican', 'new york14': 'democrat', 'rhode island2': 'democrat', 'florida20': 'democrat', 'georgia11': 'republican', 'michigan7': 'republican', 'maine1': 'democrat', 'pennsylvania3': 'democrat', 'florida2': 'republican', 'north carolina13': 'republican', 'texas8': 'republican', 'vermont1': 'democrat', 'florida4': 'republican', 'illinois13': 'republican', 'california29': 'democrat', 'kansas3': 'democrat', 'texas34': 'democrat', 'colorado6': 'democrat', 'california13': 'democrat', 'oklahoma3': 'republican', 'kansas1': 'republican', 'texas21': 'republican', 'virginia4': 'democrat', 'ohio4': 'republican', 'california48': 'democrat', 'georgia10': 'republican', 'california9': 'democrat', 'illinois14': 'democrat', 'california21': 'democrat', 'pennsylvania1': 'republican', 'new mexico1': 'democrat', 'california6': 'democrat', 'mississippi3': 'republican', 'new jersey10': 'democrat', 'connecticut2': 'democrat', 'minnesota8': 'republican', 'new york23': 'republican', 'georgia5': 'democrat', 'north carolina4': 'democrat', 'arizona1': 'democrat', 'north carolina12': 'democrat', 'minnesota1': 'republican', 'california10': 'democrat', 'texas1': 'republican', 'pennsylvania8': 'democrat', 'hawaii2': 'democrat', 'california47': 'democrat', 'missouri7': 'republican', 'florida1': 'republican', 'tennessee1': 'republican', 'texas19': 'republican', 'pennsylvania12': 'republican', 'alabama1': 'republican', 'utah2': 'republican', 'florida11': 'republican', 'louisiana4': 'republican', 'new york6': 'democrat', 'texas18': 'democrat', 'maryland7': 'democrat', 'california2': 'democrat', 'virginia9': 'republican', 'florida13': 'democrat', 'ohio7': 'republican', 'california3': 'democrat', 'kansas2': 'republican', 'virginia8': 'democrat', 'alabama7': 'democrat', 'georgia4': 'democrat', 'wisconsin6': 'republican', 'louisiana1': 'republican', 'north carolina11': 'republican', 'illinois9': 'democrat', 'nevada2': 'republican', 'new york8': 'democrat', 'new york10': 'democrat', 'new hampshire1': 'democrat', 'texas22': 'republican', 'arizona9': 'democrat', 'california22': 'republican', 'idaho2': 'republican', 'california36': 'democrat', 'texas2': 'republican', 'michigan4': 'republican', 'california43': 'democrat', 'rhode island1': 'democrat', 'ohio16': 'republican', 'texas14': 'republican', 'nebraska2': 'republican', 'california49': 'democrat', 'new mexico3': 'democrat', 'missouri1': 'democrat', 'california35': 'democrat', 'california30': 'democrat', 'new jersey9': 'democrat', 'georgia8': 'republican', 'washington9': 'democrat', 'california15': 'democrat', 'new york17': 'democrat', 'california16': 'democrat', 'tennessee2': 'republican', 'new york2': 'republican', 'illinois8': 'democrat', 'new york5': 'democrat', 'new jersey3': 'democrat', 'virginia10': 'democrat', 'minnesota5': 'democratic-farmer-labor', 'illinois5': 'democrat', 'michigan8': 'democrat', 'new jersey6': 'democrat', 'indiana5': 'republican', 'north carolina5': 'republican', 'washington6': 'democrat', 'north carolina2': 'republican', 'ohio11': 'democrat', 'ohio3': 'democrat', 'texas31': 'republican', 'oklahoma1': 'republican', 'florida24': 'democrat', 'oregon4': 'democrat', 'texas6': 'republican', 'missouri3': 'republican', 'massachusetts5': 'democrat', 'oklahoma5': 'democrat', 'new york22': 'democrat', 'texas35': 'democrat', 'connecticut5': 'democrat', 'south carolina1': 'democrat', 'michigan11': 'democrat', 'indiana4': 'republican', 'california11': 'democrat', 'texas24': 'republican', 'wisconsin5': 'republican', 'minnesota4': 'democratic-farmer-labor', 'florida12': 'republican', 'texas5': 'republican', 'illinois12': 'republican', 'texas30': 'democrat', 'delaware1': 'democrat', 'colorado1': 'democrat', 'illinois15': 'republican', 'colorado5': 'republican', 'texas15': 'democrat', 'texas33': 'democrat', 'alabama5': 'republican', 'michigan6': 'republican', 'iowa3': 'democrat', 'indiana8': 'republican', 'indiana3': 'republican', 'massachusetts7': 'democrat', 'south carolina3': 'republican', 'pennsylvania9': 'republican', 'louisiana2': 'democrat', 'pennsylvania16': 'republican', 'new jersey2': 'democrat', 'florida9': 'democrat', 'texas20': 'democrat', 'georgia12': 'republican', 'texas4': 'republican', 'minnesota7': 'democratic-farmer-labor', 'massachusetts3': 'democrat', 'new york9': 'democrat', 'new york25': 'democrat', 'indiana7': 'democrat', 'georgia9': 'republican', 'illinois2': 'democrat', 'arkansas1': 'republican', 'florida6': 'republican', 'california12': 'democrat', 'california23': 'republican', 'pennsylvania10': 'republican', 'california4': 'republican', 'utah1': 'republican', 'utah3': 'republican', 'washington5': 'republican', 'north carolina9': 'republican', 'georgia3': 'republican', 'california18': 'democrat', 'kansas4': 'republican', 'texas10': 'republican', 'oklahoma2': 'republican', 'california19': 'democrat', 'alabama6': 'republican', 'florida7': 'democrat', 'ohio2': 'republican', 'ohio1': 'republican', 'missouri4': 'republican', 'california37': 'democrat', 'florida10': 'democrat', 'georgia2': 'democrat', 'south carolina5': 'republican', 'pennsylvania4': 'democrat', 'south dakota1': 'republican', 'illinois1': 'democrat', 'ohio10': 'republican', 'california34': 'democrat', 'indiana2': 'republican', 'kentucky3': 'democrat', 'massachusetts8': 'democrat', 'new york7': 'democrat', 'texas9': 'democrat', 'washington7': 'democrat', 'alabama3': 'republican', 'california28': 'democrat', 'connecticut3': 'democrat', 'new jersey12': 'democrat', 'new york18': 'democrat', 'texas17': 'republican', 'indiana1': 'democrat', 'new mexico2': 'democrat', 'minnesota2': 'democratic-farmer-labor', 'colorado3': 'republican', 'colorado4': 'republican', 'florida22': 'democrat', 'idaho1': 'republican', 'louisiana6': 'republican', 'new york27': 'democrat', 'illinois17': 'democrat', 'ohio13': 'democrat', 'tennessee8': 'republican', 'north carolina10': 'republican', 'iowa2': 'democrat', 'alaska1': 'republican', 'alabama2': 'republican', 'kentucky2': 'republican', 'pennsylvania14': 'republican', 'missouri6': 'republican', 'maryland4': 'democrat', 'utah4': 'democrat', 'wisconsin8': 'republican', 'florida3': 'republican', 'georgia7': 'republican', 'colorado2': 'democrat', 'illinois16': 'republican', 'oregon3': 'democrat', 'florida19': 'republican', 'pennsylvania5': 'democrat', 'michigan9': 'democrat', 'west virginia3': 'republican', 'new jersey1': 'democrat', 'florida21': 'democrat', 'texas13': 'republican', 'missouri5': 'democrat', 'nevada4': 'democrat', 'pennsylvania7': 'democrat', 'michigan2': 'republican', 'kentucky5': 'republican', 'maryland3': 'democrat', 'alabama4': 'republican', 'pennsylvania18': 'democrat', 'florida5': 'democrat', 'california38': 'democrat', 'new jersey11': 'democrat', 'virginia3': 'democrat', 'virginia6': 'republican', 'california46': 'democrat', 'california17': 'democrat', 'washington3': 'republican', 'maine2': 'democrat', 'north carolina7': 'republican', 'pennsylvania17': 'democrat', 'california51': 'democrat', 'florida23': 'democrat', 'arizona7': 'democrat', 'florida15': 'republican', 'nebraska3': 'republican', 'new jersey7': 'democrat', 'minnesota3': 'democratic-farmer-labor', 'north carolina6': 'republican', 'tennessee4': 'republican', 'texas26': 'republican', 'washington4': 'republican', 'new york13': 'democrat', 'tennessee7': 'republican', 'michigan1': 'republican', 'texas16': 'democrat', 'kentucky6': 'republican', 'california33': 'democrat', 'south carolina7': 'republican', 'maryland2': 'democrat', 'florida8': 'republican', 'south carolina4': 'republican', 'new york15': 'democrat', 'arkansas3': 'republican', 'new york21': 'republican', 'texas12': 'republican', 'virginia1': 'republican', 'california8': 'republican', 'new york20': 'democrat', 'nevada3': 'democrat', 'iowa1': 'democrat', 'florida16': 'republican', 'washington8': 'democrat', 'michigan3': 'republican', 'pennsylvania11': 'republican', 'mississippi4': 'republican', 'virginia7': 'democrat', 'north carolina1': 'democrat', 'montana1': 'republican', 'michigan13': 'democrat', 'missouri8': 'republican', 'michigan5': 'democrat', 'california31': 'democrat', 'maryland1': 'republican', 'florida25': 'republican', 'minnesota6': 'republican', 'oregon1': 'democrat', 'michigan10': 'republican', 'new york12': 'democrat', 'arizona8': 'republican', 'ohio5': 'republican', 'california50': 'republican', 'illinois11': 'democrat', 'florida18': 'republican', 'michigan14': 'democrat', 'florida27': 'democrat', 'massachusetts2': 'democrat', 'ohio8': 'republican', 'tennessee9': 'democrat', 'missouri2': 'republican', 'washington1': 'democrat', 'washington2': 'democrat', 'maryland5': 'democrat', 'california44': 'democrat', 'colorado7': 'democrat', 'connecticut4': 'democrat', 'wisconsin1': 'republican', 'ohio6': 'republican', 'new york19': 'democrat'}\n"
     ]
    }
   ],
   "source": [
    "housedist_to_party = {}\n",
    "\n",
    "# Get each state's most recent party that won\n",
    "for housedist in np.unique(house_df['state_dist']):\n",
    "    most_recent_year = np.amax(house_df[house_df['state_dist']==housedist]['year'].astype(int))\n",
    "    \n",
    "    # to filter obsolete districts\n",
    "    if int(most_recent_year) < 2012:\n",
    "        continue\n",
    "    most_recent_candidates = house_df[(house_df['state_dist']==housedist) & (house_df['year'].astype(int)==most_recent_year)].index\n",
    "    party, votes = None, 0\n",
    "    for ind in most_recent_candidates:\n",
    "        cand = house_df.iloc[ind]\n",
    "        if int(cand['candidatevotes']) > int(votes):\n",
    "            party, votes = cand['party'], cand['candidatevotes']\n",
    "    housedist_to_party[housedist.lower()] = party\n",
    "\n",
    "print(len(housedist_to_party))\n",
    "print(housedist_to_party)"
   ]
  },
  {
   "cell_type": "code",
   "execution_count": 8,
   "metadata": {},
   "outputs": [],
   "source": [
    "pickle.dump([state_to_party, housedist_to_party], open('baselines.pkl', 'wb'))"
   ]
  },
  {
   "cell_type": "code",
   "execution_count": null,
   "metadata": {},
   "outputs": [],
   "source": []
  }
 ],
 "metadata": {
  "kernelspec": {
   "display_name": "Python 3",
   "language": "python",
   "name": "python3"
  },
  "language_info": {
   "codemirror_mode": {
    "name": "ipython",
    "version": 3
   },
   "file_extension": ".py",
   "mimetype": "text/x-python",
   "name": "python",
   "nbconvert_exporter": "python",
   "pygments_lexer": "ipython3",
   "version": "3.5.2"
  }
 },
 "nbformat": 4,
 "nbformat_minor": 2
}
