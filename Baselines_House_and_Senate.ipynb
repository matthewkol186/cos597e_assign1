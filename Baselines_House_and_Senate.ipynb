{
 "cells": [
  {
   "cell_type": "code",
   "execution_count": 1,
   "metadata": {},
   "outputs": [],
   "source": [
    "import numpy as np\n",
    "import csv\n",
    "import pandas as pd\n",
    "from datetime import datetime"
   ]
  },
  {
   "cell_type": "markdown",
   "metadata": {},
   "source": [
    "## Senate"
   ]
  },
  {
   "cell_type": "code",
   "execution_count": 9,
   "metadata": {},
   "outputs": [
    {
     "name": "stdout",
     "output_type": "stream",
     "text": [
      "Index(['year', 'state', 'state_po', 'state_fips', 'state_cen', 'state_ic',\n",
      "       'office', 'district', 'stage', 'special', 'candidate', 'party',\n",
      "       'writein', 'mode', 'candidatevotes', 'totalvotes', 'unofficial',\n",
      "       'version'],\n",
      "      dtype='object')\n"
     ]
    }
   ],
   "source": [
    "senate_df = pd.read_csv('data/1976-2018-senate.csv', encoding = \"ISO-8859-1\")\n",
    "print(senate_df.keys())"
   ]
  },
  {
   "cell_type": "code",
   "execution_count": 31,
   "metadata": {},
   "outputs": [
    {
     "name": "stdout",
     "output_type": "stream",
     "text": [
      "50\n",
      "{'New York': 'democrat', 'Connecticut': 'democrat', 'Alaska': 'republican', 'Texas': 'republican', 'Utah': 'republican', 'Hawaii': 'democrat', 'West Virginia': 'democrat', 'Rhode Island': 'democrat', 'North Carolina': 'republican', 'New Mexico': 'democrat', 'Maryland': 'democrat', 'South Carolina': 'republican', 'Massachusetts': 'democrat', 'Montana': 'democrat', 'Michigan': 'democrat', 'Louisiana': 'republican', 'Illinois': 'democrat', 'Oregon': 'democrat', 'Indiana': 'republican', 'Colorado': 'democrat', 'Iowa': 'republican', 'Oklahoma': 'republican', 'Washington': 'democrat', 'Idaho': 'republican', 'New Hampshire': 'democrat', 'Florida': 'republican', 'North Dakota': 'republican', 'Ohio': 'democrat', 'Missouri': 'republican', 'South Dakota': 'republican', 'New Jersey': 'democrat', 'Wyoming': 'republican', 'Mississippi': 'republican', 'Kansas': 'republican', 'Nebraska': 'republican', 'Alabama': 'republican', 'Arizona': 'democrat', 'Virginia': 'democrat', 'Vermont': 'independent', 'Georgia': 'republican', 'Wisconsin': 'democrat', 'Maine': 'independent', 'Delaware': 'democrat', 'Arkansas': 'republican', 'Nevada': 'democrat', 'California': 'democrat', 'Pennsylvania': 'democrat', 'Kentucky': 'republican', 'Minnesota': 'democratic-farmer-labor', 'Tennessee': 'republican'}\n"
     ]
    }
   ],
   "source": [
    "state_to_party = {}\n",
    "\n",
    "# Get each state's most recent party that won\n",
    "for state in np.unique(senate_df['state']):\n",
    "    most_recent_year = np.amax(senate_df[senate_df['state']==state]['year'].astype(int))\n",
    "    most_recent_candidates = senate_df[(senate_df['state']==state) & (senate_df['year'].astype(int)==most_recent_year)].index\n",
    "    party, votes = None, 0\n",
    "    for ind in most_recent_candidates:\n",
    "        cand = senate_df.iloc[ind]\n",
    "        if int(cand['candidatevotes']) > int(votes):\n",
    "            party, votes = cand['party'], cand['candidatevotes']\n",
    "    state_to_party[state] = party\n",
    "\n",
    "print(len(state_to_party))\n",
    "print(state_to_party)"
   ]
  },
  {
   "cell_type": "markdown",
   "metadata": {},
   "source": [
    "## House"
   ]
  },
  {
   "cell_type": "code",
   "execution_count": 33,
   "metadata": {},
   "outputs": [
    {
     "name": "stdout",
     "output_type": "stream",
     "text": [
      "Index(['year', 'state', 'state_po', 'state_fips', 'state_cen', 'state_ic',\n",
      "       'office', 'district', 'stage', 'runoff', 'special', 'candidate',\n",
      "       'party', 'writein', 'mode', 'candidatevotes', 'totalvotes',\n",
      "       'unofficial', 'version'],\n",
      "      dtype='object')\n"
     ]
    }
   ],
   "source": [
    "house_df = pd.read_csv('data/1976-2018-house2.csv', encoding = \"ISO-8859-1\")\n",
    "print(house_df.keys())"
   ]
  },
  {
   "cell_type": "code",
   "execution_count": 39,
   "metadata": {},
   "outputs": [
    {
     "name": "stdout",
     "output_type": "stream",
     "text": [
      "498\n"
     ]
    }
   ],
   "source": [
    "house_df['state_dist'] = house_df['state'].astype(str) + house_df['district'].astype(str)\n",
    "print(len(np.unique(house_df['state_dist'])))"
   ]
  },
  {
   "cell_type": "code",
   "execution_count": 48,
   "metadata": {},
   "outputs": [
    {
     "name": "stdout",
     "output_type": "stream",
     "text": [
      "435\n",
      "{'California23': 'republican', 'Florida6': 'republican', 'Florida19': 'republican', 'Virginia9': 'republican', 'Texas30': 'democrat', 'Virginia1': 'republican', 'New York25': 'democrat', 'Ohio9': 'democrat', 'Ohio5': 'republican', 'Louisiana6': 'republican', 'Michigan11': 'democrat', 'Texas32': 'democrat', 'Delaware0': 'democrat', 'New York12': 'democrat', 'Arkansas3': 'republican', 'Michigan13': 'democrat', 'Pennsylvania5': 'democrat', 'Oregon1': 'democrat', 'Nevada2': 'republican', 'Florida16': 'republican', 'New Mexico2': 'democrat', 'Indiana5': 'republican', 'Washington6': 'democrat', 'Minnesota7': 'democratic-farmer-labor', 'Washington10': 'democrat', 'Arizona3': 'democrat', 'Utah2': 'republican', 'Florida25': 'republican', 'California7': 'democrat', 'Massachusetts6': 'democrat', 'Kansas3': 'democrat', 'California4': 'republican', 'Maryland1': 'republican', 'Mississippi1': 'republican', 'Florida9': 'democrat', 'Ohio2': 'republican', 'California15': 'democrat', 'California19': 'democrat', 'California44': 'democrat', 'Wisconsin3': 'democrat', 'West Virginia1': 'republican', 'Connecticut4': 'democrat', 'Washington4': 'republican', 'Texas1': 'republican', 'New Mexico3': 'democrat', 'Oregon5': 'democrat', 'North Carolina1': 'democrat', 'Florida2': 'republican', 'Tennessee7': 'republican', 'Georgia11': 'republican', 'Virginia7': 'democrat', 'Connecticut1': 'democrat', 'New York5': 'democrat', 'Illinois17': 'democrat', 'Washington3': 'republican', 'Louisiana2': 'democrat', 'Colorado5': 'republican', 'Oregon4': 'democrat', 'Arkansas4': 'republican', 'Idaho2': 'republican', 'Alabama2': 'republican', 'Illinois2': 'democrat', 'Pennsylvania13': 'republican', 'Nevada1': 'democrat', 'North Carolina12': 'democrat', 'Vermont0': 'democrat', 'Michigan8': 'democrat', 'Wisconsin7': 'republican', 'New York23': 'republican', 'Georgia8': 'republican', 'California11': 'democrat', 'Pennsylvania17': 'democrat', 'Tennessee5': 'democrat', 'Michigan6': 'republican', 'South Carolina5': 'republican', 'Maryland4': 'democrat', 'Florida4': 'republican', 'Nebraska3': 'republican', 'California26': 'democrat', 'Massachusetts8': 'democrat', 'Indiana2': 'republican', 'Illinois18': 'republican', 'Ohio11': 'democrat', 'Mississippi2': 'democrat', 'California31': 'democrat', 'Oregon3': 'democrat', 'Iowa2': 'democrat', 'Texas18': 'democrat', 'Maryland8': 'democrat', 'Illinois12': 'republican', 'Florida23': 'democrat', 'Texas36': 'republican', 'Tennessee1': 'republican', 'Florida5': 'democrat', 'Louisiana1': 'republican', 'New York10': 'democrat', 'Missouri1': 'democrat', 'California2': 'democrat', 'Washington7': 'democrat', 'Nebraska1': 'republican', 'North Carolina13': 'republican', 'New York21': 'republican', 'Ohio16': 'republican', 'California6': 'democrat', 'California33': 'democrat', 'Georgia12': 'republican', 'Indiana8': 'republican', 'New York20': 'democrat', 'Louisiana5': 'republican', 'Washington2': 'democrat', 'Indiana4': 'republican', 'New Jersey1': 'democrat', 'Georgia1': 'republican', 'Alabama7': 'democrat', 'Idaho1': 'republican', 'California27': 'democrat', 'Florida24': 'democrat', 'Pennsylvania7': 'democrat', 'Arizona4': 'republican', 'Florida14': 'democrat', 'Wisconsin8': 'republican', 'California41': 'democrat', 'Maryland5': 'democrat', 'Arkansas2': 'republican', 'Maine1': 'democrat', 'Texas16': 'democrat', 'Georgia9': 'republican', 'California16': 'democrat', 'California49': 'democrat', 'South Carolina7': 'republican', 'New York17': 'democrat', 'Texas2': 'republican', 'California38': 'democrat', 'South Carolina4': 'republican', 'Texas9': 'democrat', 'Kentucky1': 'republican', 'Texas10': 'republican', 'Texas11': 'republican', 'Florida7': 'democrat', 'California12': 'democrat', 'California53': 'democrat', 'Illinois8': 'democrat', 'North Carolina2': 'republican', 'New York7': 'democrat', 'North Carolina5': 'republican', 'Texas14': 'republican', 'Florida11': 'republican', 'Arizona2': 'democrat', 'Arizona7': 'democrat', 'Indiana7': 'democrat', 'Maryland2': 'democrat', 'Texas20': 'democrat', 'Texas6': 'republican', 'Florida3': 'republican', 'California28': 'democrat', 'California40': 'democrat', 'Mississippi4': 'republican', 'Texas27': 'republican', 'Minnesota4': 'democratic-farmer-labor', 'Michigan1': 'republican', 'Ohio1': 'republican', 'North Carolina3': 'republican', 'Illinois10': 'democrat', 'Oklahoma3': 'republican', 'North Carolina11': 'republican', 'Texas5': 'republican', 'Texas28': 'democrat', 'Illinois13': 'republican', 'Florida17': 'republican', 'Texas3': 'republican', 'California43': 'democrat', 'New York2': 'republican', 'Illinois5': 'democrat', 'California46': 'democrat', 'California45': 'democrat', 'New Jersey8': 'democrat', 'Texas26': 'republican', 'California5': 'democrat', 'Missouri6': 'republican', 'Colorado7': 'democrat', 'Minnesota1': 'republican', 'New Jersey4': 'republican', 'Michigan5': 'democrat', 'Texas17': 'republican', 'Florida22': 'democrat', 'Pennsylvania12': 'republican', 'Arizona6': 'republican', 'Michigan4': 'republican', 'New York19': 'democrat', 'Pennsylvania3': 'democrat', 'Montana0': 'republican', 'Alaska0': 'republican', 'Illinois9': 'democrat', 'Oklahoma4': 'republican', 'Minnesota6': 'republican', 'California1': 'republican', 'Georgia6': 'democrat', 'Georgia3': 'republican', 'Minnesota5': 'democratic-farmer-labor', 'Texas34': 'democrat', 'Arkansas1': 'republican', 'Georgia4': 'democrat', 'Kansas4': 'republican', 'Iowa4': 'republican', 'California18': 'democrat', 'New Jersey11': 'democrat', 'California25': 'democrat', 'Massachusetts4': 'democrat', 'Colorado6': 'democrat', 'Tennessee2': 'republican', 'Florida12': 'republican', 'Colorado4': 'republican', 'Arizona5': 'republican', 'Massachusetts3': 'democrat', 'Pennsylvania9': 'republican', 'Pennsylvania2': 'democrat', 'Georgia10': 'republican', 'California24': 'democrat', 'Wyoming0': 'republican', 'Illinois4': 'democrat', 'Maryland6': 'democrat', 'Virginia4': 'democrat', 'Colorado3': 'republican', 'Louisiana4': 'republican', 'New York13': 'democrat', 'Missouri7': 'republican', 'Washington8': 'democrat', 'Illinois16': 'republican', 'Missouri2': 'republican', 'Pennsylvania10': 'republican', 'New York26': 'democrat', 'Utah3': 'republican', 'Minnesota3': 'democratic-farmer-labor', 'Virginia8': 'democrat', 'California29': 'democrat', 'Ohio4': 'republican', 'Pennsylvania6': 'democrat', 'Virginia6': 'republican', 'Alabama3': 'republican', 'Texas7': 'democrat', 'California48': 'democrat', 'Georgia14': 'republican', 'North Carolina9': 'republican', 'New York27': 'democrat', 'New York14': 'democrat', 'West Virginia3': 'republican', 'Texas29': 'democrat', 'Illinois15': 'republican', 'North Carolina10': 'republican', 'Illinois11': 'democrat', 'Ohio7': 'republican', 'Texas35': 'democrat', 'Florida10': 'democrat', 'New York15': 'democrat', 'California47': 'democrat', 'Utah1': 'republican', 'Illinois7': 'democrat', 'Minnesota8': 'republican', 'California39': 'democrat', 'Wisconsin1': 'republican', 'Wisconsin4': 'democrat', 'Indiana6': 'republican', 'California35': 'democrat', 'New Jersey2': 'democrat', 'South Carolina2': 'republican', 'Texas24': 'republican', 'Michigan10': 'republican', 'California37': 'democrat', 'California14': 'democrat', 'New York1': 'democrat', 'Kansas1': 'republican', 'New York6': 'democrat', 'Hawaii1': 'democrat', 'Ohio10': 'republican', 'California34': 'democrat', 'Mississippi3': 'republican', 'Pennsylvania14': 'republican', 'Georgia13': 'democrat', 'Nevada3': 'democrat', 'Tennessee9': 'democrat', 'Virginia3': 'democrat', 'Texas15': 'democrat', 'Missouri4': 'republican', 'Kentucky3': 'democrat', 'California9': 'democrat', 'New Jersey10': 'democrat', 'Ohio12': 'republican', 'Pennsylvania8': 'democrat', 'New York9': 'democrat', 'Alabama4': 'republican', 'New York11': 'democrat', 'Kentucky2': 'republican', 'Georgia2': 'democrat', 'Florida13': 'democrat', 'California50': 'republican', 'Texas22': 'republican', 'Tennessee3': 'republican', 'Missouri5': 'democrat', 'Iowa1': 'democrat', 'Ohio3': 'democrat', 'Florida27': 'democrat', 'Maine2': 'democrat', 'California32': 'democrat', 'Florida26': 'democrat', 'Ohio6': 'republican', 'Pennsylvania16': 'republican', 'California8': 'republican', 'Michigan2': 'republican', 'Kentucky6': 'republican', 'New Jersey7': 'democrat', 'Missouri8': 'republican', 'Connecticut3': 'democrat', 'Massachusetts5': 'democrat', 'Maryland3': 'democrat', 'Georgia7': 'republican', 'Tennessee4': 'republican', 'Oklahoma5': 'democrat', 'Florida21': 'democrat', 'California10': 'democrat', 'Ohio8': 'republican', 'Georgia5': 'democrat', 'Utah4': 'democrat', 'Massachusetts9': 'democrat', 'Texas19': 'republican', 'North Carolina6': 'republican', 'Tennessee6': 'republican', 'Texas8': 'republican', 'Washington9': 'democrat', 'Pennsylvania11': 'republican', 'New Jersey6': 'democrat', 'Michigan3': 'republican', 'California42': 'republican', 'Arizona1': 'democrat', 'Indiana3': 'republican', 'Pennsylvania18': 'democrat', 'South Carolina6': 'democrat', 'New York16': 'democrat', 'Massachusetts7': 'democrat', 'Alabama1': 'republican', 'California3': 'democrat', 'Minnesota2': 'democratic-farmer-labor', 'New York18': 'democrat', 'Colorado2': 'democrat', 'Ohio13': 'democrat', 'Washington1': 'democrat', 'Michigan14': 'democrat', 'Oregon2': 'republican', 'Nebraska2': 'republican', 'Connecticut5': 'democrat', 'Kentucky5': 'republican', 'New York22': 'democrat', 'Texas25': 'republican', 'Texas12': 'republican', 'Colorado1': 'democrat', 'Pennsylvania1': 'republican', 'Tennessee8': 'republican', 'Louisiana3': 'republican', 'Florida1': 'republican', 'New Jersey9': 'democrat', 'New Hampshire2': 'democrat', 'Pennsylvania15': 'republican', 'South Carolina1': 'democrat', 'Oklahoma1': 'republican', 'Florida15': 'republican', 'Michigan9': 'democrat', 'California21': 'democrat', 'Hawaii2': 'democrat', 'Ohio14': 'republican', 'Indiana9': 'republican', 'Kentucky4': 'republican', 'Oklahoma2': 'republican', 'Michigan7': 'republican', 'New York24': 'democrat', 'Virginia2': 'democrat', 'Rhode Island1': 'democrat', 'Nevada4': 'democrat', 'Illinois3': 'democrat', 'Rhode Island2': 'democrat', 'Florida8': 'republican', 'New Jersey12': 'democrat', 'Massachusetts1': 'democrat', 'North Carolina7': 'republican', 'Wisconsin2': 'democrat', 'California20': 'democrat', 'California30': 'democrat', 'New Jersey5': 'democrat', 'New Mexico1': 'democrat', 'Texas4': 'republican', 'Pennsylvania4': 'democrat', 'California51': 'democrat', 'Texas31': 'republican', 'North Carolina8': 'republican', 'California17': 'democrat', 'Texas13': 'republican', 'New Jersey3': 'democrat', 'Missouri3': 'republican', 'Illinois1': 'democrat', 'Wisconsin5': 'republican', 'Virginia10': 'democrat', 'South Dakota0': 'republican', 'North Dakota0': 'republican', 'Kansas2': 'republican', 'Arizona8': 'republican', 'North Carolina4': 'democrat', 'Connecticut2': 'democrat', 'California36': 'democrat', 'Texas21': 'republican', 'South Carolina3': 'republican', 'Michigan12': 'democrat', 'Wisconsin6': 'republican', 'Alabama5': 'republican', 'West Virginia2': 'republican', 'New York8': 'democrat', 'Illinois14': 'democrat', 'Illinois6': 'democrat', 'Virginia5': 'republican', 'Maryland7': 'democrat', 'California13': 'democrat', 'Indiana1': 'democrat', 'New York4': 'democrat', 'Texas33': 'democrat', 'Florida18': 'republican', 'New Hampshire1': 'democrat', 'Ohio15': 'republican', 'Iowa3': 'democrat', 'Texas23': 'republican', 'California22': 'republican', 'Massachusetts2': 'democrat', 'Florida20': 'democrat', 'Virginia11': 'democrat', 'California52': 'democrat', 'New York3': 'democrat', 'Washington5': 'republican', 'Arizona9': 'democrat', 'Alabama6': 'republican'}\n"
     ]
    }
   ],
   "source": [
    "housedist_to_party = {}\n",
    "\n",
    "# Get each state's most recent party that won\n",
    "for housedist in np.unique(house_df['state_dist']):\n",
    "    most_recent_year = np.amax(house_df[house_df['state_dist']==housedist]['year'].astype(int))\n",
    "    \n",
    "    # to filter obsolete districts\n",
    "    if int(most_recent_year) < 2012:\n",
    "        continue\n",
    "    most_recent_candidates = house_df[(house_df['state_dist']==housedist) & (house_df['year'].astype(int)==most_recent_year)].index\n",
    "    party, votes = None, 0\n",
    "    for ind in most_recent_candidates:\n",
    "        cand = house_df.iloc[ind]\n",
    "        if int(cand['candidatevotes']) > int(votes):\n",
    "            party, votes = cand['party'], cand['candidatevotes']\n",
    "    housedist_to_party[housedist] = party\n",
    "\n",
    "print(len(housedist_to_party))\n",
    "print(housedist_to_party)"
   ]
  },
  {
   "cell_type": "code",
   "execution_count": null,
   "metadata": {},
   "outputs": [],
   "source": []
  }
 ],
 "metadata": {
  "kernelspec": {
   "display_name": "Python 3",
   "language": "python",
   "name": "python3"
  },
  "language_info": {
   "codemirror_mode": {
    "name": "ipython",
    "version": 3
   },
   "file_extension": ".py",
   "mimetype": "text/x-python",
   "name": "python",
   "nbconvert_exporter": "python",
   "pygments_lexer": "ipython3",
   "version": "3.5.2"
  }
 },
 "nbformat": 4,
 "nbformat_minor": 2
}
