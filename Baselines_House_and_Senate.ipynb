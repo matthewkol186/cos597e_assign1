{
 "cells": [
  {
   "cell_type": "code",
   "execution_count": 1,
   "metadata": {},
   "outputs": [],
   "source": [
    "import numpy as np\n",
    "import csv\n",
    "import pandas as pd\n",
    "from datetime import datetime\n",
    "import pickle"
   ]
  },
  {
   "cell_type": "markdown",
   "metadata": {},
   "source": [
    "## Senate"
   ]
  },
  {
   "cell_type": "code",
   "execution_count": 24,
   "metadata": {},
   "outputs": [
    {
     "name": "stdout",
     "output_type": "stream",
     "text": [
      "Index(['year', 'state', 'state_po', 'state_fips', 'state_cen', 'state_ic',\n",
      "       'office', 'district', 'stage', 'special', 'candidate', 'party',\n",
      "       'writein', 'mode', 'candidatevotes', 'totalvotes', 'unofficial',\n",
      "       'version'],\n",
      "      dtype='object')\n"
     ]
    }
   ],
   "source": [
    "senate_df = pd.read_csv('data/1976-2018-senate.csv', encoding = \"ISO-8859-1\")\n",
    "print(senate_df.keys())"
   ]
  },
  {
   "cell_type": "code",
   "execution_count": 25,
   "metadata": {},
   "outputs": [
    {
     "name": "stdout",
     "output_type": "stream",
     "text": [
      "50\n",
      "{'delaware': 'democrat', 'idaho': 'republican', 'nebraska': 'republican', 'iowa': 'republican', 'new hampshire': 'democrat', 'nevada': 'democrat', 'california': 'democrat', 'montana': 'democrat', 'massachusetts': 'democrat', 'new jersey': 'democrat', 'hawaii': 'democrat', 'texas': 'republican', 'pennsylvania': 'democrat', 'maine': 'independent', 'utah': 'republican', 'illinois': 'democrat', 'georgia': 'republican', 'north carolina': 'republican', 'missouri': 'republican', 'kentucky': 'republican', 'florida': 'republican', 'mississippi': 'republican', 'arizona': 'democrat', 'alabama': 'republican', 'vermont': 'independent', 'oklahoma': 'republican', 'west virginia': 'democrat', 'wisconsin': 'democrat', 'south carolina': 'republican', 'minnesota': 'democratic-farmer-labor', 'tennessee': 'republican', 'connecticut': 'democrat', 'oregon': 'democrat', 'north dakota': 'republican', 'washington': 'democrat', 'new mexico': 'democrat', 'colorado': 'democrat', 'alaska': 'republican', 'michigan': 'democrat', 'south dakota': 'republican', 'kansas': 'republican', 'new york': 'democrat', 'maryland': 'democrat', 'ohio': 'democrat', 'arkansas': 'republican', 'wyoming': 'republican', 'louisiana': 'republican', 'virginia': 'democrat', 'indiana': 'republican', 'rhode island': 'democrat'}\n"
     ]
    }
   ],
   "source": [
    "state_to_party = {}\n",
    "\n",
    "# Get each state's most recent party that won\n",
    "for state in np.unique(senate_df['state']):\n",
    "    most_recent_year = np.amax(senate_df[senate_df['state']==state]['year'].astype(int))\n",
    "    most_recent_candidates = senate_df[(senate_df['state']==state) & (senate_df['year'].astype(int)==most_recent_year)].index\n",
    "    party, votes = None, 0\n",
    "    for ind in most_recent_candidates:\n",
    "        cand = senate_df.iloc[ind]\n",
    "        if int(cand['candidatevotes']) > int(votes):\n",
    "            party, votes = cand['party'], cand['candidatevotes']\n",
    "    state_to_party[state.lower()] = party\n",
    "\n",
    "print(len(state_to_party))\n",
    "print(state_to_party)"
   ]
  },
  {
   "cell_type": "markdown",
   "metadata": {},
   "source": [
    "## House"
   ]
  },
  {
   "cell_type": "code",
   "execution_count": 36,
   "metadata": {},
   "outputs": [
    {
     "name": "stdout",
     "output_type": "stream",
     "text": [
      "Index(['year', 'state', 'state_po', 'state_fips', 'state_cen', 'state_ic',\n",
      "       'office', 'district', 'stage', 'runoff', 'special', 'candidate',\n",
      "       'party', 'writein', 'mode', 'candidatevotes', 'totalvotes',\n",
      "       'unofficial', 'version'],\n",
      "      dtype='object')\n"
     ]
    }
   ],
   "source": [
    "house_df = pd.read_csv('data/1976-2018-house2.csv', encoding = \"ISO-8859-1\")\n",
    "print(house_df.keys())"
   ]
  },
  {
   "cell_type": "code",
   "execution_count": 40,
   "metadata": {},
   "outputs": [],
   "source": [
    "house_df['district'] = house_df['district'].replace(0, 1)"
   ]
  },
  {
   "cell_type": "code",
   "execution_count": 42,
   "metadata": {},
   "outputs": [
    {
     "name": "stdout",
     "output_type": "stream",
     "text": [
      "495\n"
     ]
    }
   ],
   "source": [
    "house_df['state_dist'] = house_df['state'].astype(str) + house_df['district'].astype(str)\n",
    "print(len(np.unique(house_df['state_dist'])))"
   ]
  },
  {
   "cell_type": "code",
   "execution_count": 43,
   "metadata": {},
   "outputs": [
    {
     "name": "stdout",
     "output_type": "stream",
     "text": [
      "435\n",
      "{'virginia6': 'republican', 'new jersey6': 'democrat', 'texas23': 'republican', 'california35': 'democrat', 'pennsylvania5': 'democrat', 'virginia3': 'democrat', 'ohio4': 'republican', 'alabama2': 'republican', 'illinois1': 'democrat', 'texas8': 'republican', 'illinois12': 'republican', 'new york5': 'democrat', 'new york14': 'democrat', 'massachusetts3': 'democrat', 'maryland4': 'democrat', 'nebraska2': 'republican', 'arizona2': 'democrat', 'california48': 'democrat', 'california4': 'republican', 'south carolina2': 'republican', 'connecticut4': 'democrat', 'south carolina3': 'republican', 'south carolina7': 'republican', 'oregon4': 'democrat', 'washington4': 'republican', 'nebraska1': 'republican', 'louisiana1': 'republican', 'michigan6': 'republican', 'massachusetts5': 'democrat', 'new york3': 'democrat', 'california46': 'democrat', 'florida4': 'republican', 'california5': 'democrat', 'pennsylvania9': 'republican', 'california16': 'democrat', 'north carolina12': 'democrat', 'california37': 'democrat', 'ohio3': 'democrat', 'louisiana5': 'republican', 'georgia11': 'republican', 'california10': 'democrat', 'hawaii1': 'democrat', 'maryland7': 'democrat', 'idaho2': 'republican', 'texas36': 'republican', 'alabama3': 'republican', 'michigan3': 'republican', 'florida6': 'republican', 'nevada1': 'democrat', 'louisiana4': 'republican', 'louisiana3': 'republican', 'new york1': 'democrat', 'south carolina4': 'republican', 'texas12': 'republican', 'ohio14': 'republican', 'california52': 'democrat', 'california43': 'democrat', 'arizona7': 'democrat', 'maryland3': 'democrat', 'new mexico1': 'democrat', 'california26': 'democrat', 'new hampshire2': 'democrat', 'kentucky1': 'republican', 'california1': 'republican', 'california40': 'democrat', 'texas3': 'republican', 'north carolina5': 'republican', 'florida2': 'republican', 'colorado7': 'democrat', 'nevada4': 'democrat', 'illinois5': 'democrat', 'new york22': 'democrat', 'california25': 'democrat', 'wisconsin3': 'democrat', 'wyoming1': 'republican', 'north carolina10': 'republican', 'south carolina5': 'republican', 'new york23': 'republican', 'oklahoma1': 'republican', 'california22': 'republican', 'minnesota6': 'republican', 'maryland1': 'republican', 'minnesota3': 'democratic-farmer-labor', 'michigan9': 'democrat', 'illinois18': 'republican', 'alaska1': 'republican', 'california34': 'democrat', 'california33': 'democrat', 'california44': 'democrat', 'new york6': 'democrat', 'california23': 'republican', 'pennsylvania4': 'democrat', 'kansas2': 'republican', 'virginia7': 'democrat', 'california12': 'democrat', 'utah4': 'democrat', 'florida27': 'democrat', 'connecticut1': 'democrat', 'wisconsin6': 'republican', 'indiana1': 'democrat', 'illinois10': 'democrat', 'arizona4': 'republican', 'iowa1': 'democrat', 'florida9': 'democrat', 'arizona3': 'democrat', 'louisiana2': 'democrat', 'kentucky2': 'republican', 'texas14': 'republican', 'massachusetts1': 'democrat', 'north carolina8': 'republican', 'california32': 'democrat', 'ohio2': 'republican', 'wisconsin8': 'republican', 'oklahoma5': 'democrat', 'tennessee3': 'republican', 'arkansas3': 'republican', 'virginia10': 'democrat', 'virginia1': 'republican', 'michigan13': 'democrat', 'illinois9': 'democrat', 'michigan10': 'republican', 'maine1': 'democrat', 'indiana5': 'republican', 'pennsylvania10': 'republican', 'california51': 'democrat', 'georgia6': 'democrat', 'texas22': 'republican', 'washington1': 'democrat', 'california42': 'republican', 'florida14': 'democrat', 'texas20': 'democrat', 'minnesota2': 'democratic-farmer-labor', 'illinois2': 'democrat', 'colorado5': 'republican', 'georgia8': 'republican', 'new york15': 'democrat', 'texas6': 'republican', 'california50': 'republican', 'ohio13': 'democrat', 'vermont1': 'democrat', 'georgia4': 'democrat', 'north carolina2': 'republican', 'california24': 'democrat', 'florida8': 'republican', 'florida5': 'democrat', 'wisconsin1': 'republican', 'illinois17': 'democrat', 'wisconsin4': 'democrat', 'new mexico3': 'democrat', 'new jersey12': 'democrat', 'georgia9': 'republican', 'texas21': 'republican', 'texas35': 'democrat', 'new york9': 'democrat', 'california18': 'democrat', 'washington3': 'republican', 'michigan14': 'democrat', 'montana1': 'republican', 'missouri8': 'republican', 'illinois13': 'republican', 'kansas1': 'republican', 'delaware1': 'democrat', 'new york20': 'democrat', 'texas25': 'republican', 'washington2': 'democrat', 'georgia3': 'republican', 'colorado6': 'democrat', 'north carolina4': 'democrat', 'pennsylvania12': 'republican', 'ohio5': 'republican', 'michigan12': 'democrat', 'oregon1': 'democrat', 'indiana8': 'republican', 'new york27': 'democrat', 'kentucky4': 'republican', 'arizona8': 'republican', 'florida16': 'republican', 'california39': 'democrat', 'south carolina6': 'democrat', 'florida3': 'republican', 'texas34': 'democrat', 'idaho1': 'republican', 'pennsylvania14': 'republican', 'minnesota8': 'republican', 'new jersey1': 'democrat', 'ohio7': 'republican', 'oklahoma3': 'republican', 'nevada2': 'republican', 'indiana2': 'republican', 'new jersey11': 'democrat', 'arkansas4': 'republican', 'texas1': 'republican', 'indiana9': 'republican', 'mississippi1': 'republican', 'west virginia2': 'republican', 'missouri5': 'democrat', 'california20': 'democrat', 'utah2': 'republican', 'tennessee1': 'republican', 'new york25': 'democrat', 'ohio6': 'republican', 'arkansas1': 'republican', 'michigan11': 'democrat', 'texas18': 'democrat', 'pennsylvania8': 'democrat', 'california28': 'democrat', 'missouri2': 'republican', 'california9': 'democrat', 'new york8': 'democrat', 'georgia1': 'republican', 'missouri7': 'republican', 'arkansas2': 'republican', 'massachusetts2': 'democrat', 'texas10': 'republican', 'missouri1': 'democrat', 'north carolina1': 'democrat', 'new jersey7': 'democrat', 'indiana7': 'democrat', 'missouri4': 'republican', 'alabama7': 'democrat', 'california8': 'republican', 'pennsylvania3': 'democrat', 'new york21': 'republican', 'virginia2': 'democrat', 'texas30': 'democrat', 'texas31': 'republican', 'illinois8': 'democrat', 'massachusetts8': 'democrat', 'tennessee9': 'democrat', 'illinois16': 'republican', 'louisiana6': 'republican', 'illinois6': 'democrat', 'california11': 'democrat', 'texas33': 'democrat', 'alabama6': 'republican', 'washington8': 'democrat', 'kansas3': 'democrat', 'texas29': 'democrat', 'virginia9': 'republican', 'california38': 'democrat', 'texas15': 'democrat', 'pennsylvania7': 'democrat', 'new hampshire1': 'democrat', 'georgia2': 'democrat', 'wisconsin2': 'democrat', 'new york26': 'democrat', 'new jersey4': 'republican', 'iowa3': 'democrat', 'florida10': 'democrat', 'massachusetts4': 'democrat', 'mississippi2': 'democrat', 'texas27': 'republican', 'oregon5': 'democrat', 'ohio12': 'republican', 'georgia14': 'republican', 'alabama4': 'republican', 'colorado3': 'republican', 'north dakota1': 'republican', 'new york16': 'democrat', 'illinois7': 'democrat', 'ohio1': 'republican', 'michigan7': 'republican', 'new york2': 'republican', 'florida18': 'republican', 'texas32': 'democrat', 'florida22': 'democrat', 'tennessee4': 'republican', 'california45': 'democrat', 'alabama1': 'republican', 'california15': 'democrat', 'texas9': 'democrat', 'washington5': 'republican', 'indiana4': 'republican', 'texas13': 'republican', 'utah3': 'republican', 'colorado2': 'democrat', 'california27': 'democrat', 'california53': 'democrat', 'texas28': 'democrat', 'north carolina6': 'republican', 'nebraska3': 'republican', 'maryland5': 'democrat', 'florida13': 'democrat', 'illinois14': 'democrat', 'florida12': 'republican', 'arizona5': 'republican', 'rhode island1': 'democrat', 'michigan2': 'republican', 'pennsylvania1': 'republican', 'indiana3': 'republican', 'ohio10': 'republican', 'new york11': 'democrat', 'oklahoma2': 'republican', 'west virginia1': 'republican', 'california49': 'democrat', 'tennessee2': 'republican', 'florida19': 'republican', 'pennsylvania18': 'democrat', 'texas2': 'republican', 'texas7': 'democrat', 'california2': 'democrat', 'colorado1': 'democrat', 'texas16': 'democrat', 'mississippi4': 'republican', 'ohio15': 'republican', 'florida20': 'democrat', 'south dakota1': 'republican', 'wisconsin5': 'republican', 'florida7': 'democrat', 'georgia5': 'democrat', 'new jersey3': 'democrat', 'michigan5': 'democrat', 'nevada3': 'democrat', 'new york7': 'democrat', 'new jersey8': 'democrat', 'georgia13': 'democrat', 'florida25': 'republican', 'iowa2': 'democrat', 'alabama5': 'republican', 'florida24': 'democrat', 'florida21': 'democrat', 'north carolina7': 'republican', 'tennessee5': 'democrat', 'california21': 'democrat', 'wisconsin7': 'republican', 'south carolina1': 'democrat', 'california14': 'democrat', 'new mexico2': 'democrat', 'california47': 'democrat', 'new jersey9': 'democrat', 'arizona6': 'republican', 'kansas4': 'republican', 'california17': 'democrat', 'ohio11': 'democrat', 'michigan8': 'democrat', 'arizona9': 'democrat', 'california6': 'democrat', 'florida17': 'republican', 'new jersey5': 'democrat', 'texas26': 'republican', 'new york19': 'democrat', 'california31': 'democrat', 'illinois11': 'democrat', 'michigan1': 'republican', 'new york4': 'democrat', 'west virginia3': 'republican', 'indiana6': 'republican', 'pennsylvania17': 'democrat', 'california36': 'democrat', 'texas5': 'republican', 'ohio8': 'republican', 'north carolina11': 'republican', 'tennessee6': 'republican', 'tennessee8': 'republican', 'tennessee7': 'republican', 'new york13': 'democrat', 'arizona1': 'democrat', 'oklahoma4': 'republican', 'virginia4': 'democrat', 'texas4': 'republican', 'virginia8': 'democrat', 'connecticut5': 'democrat', 'illinois3': 'democrat', 'new jersey2': 'democrat', 'florida15': 'republican', 'kentucky3': 'democrat', 'massachusetts6': 'democrat', 'illinois4': 'democrat', 'kentucky5': 'republican', 'california41': 'democrat', 'florida11': 'republican', 'minnesota5': 'democratic-farmer-labor', 'washington7': 'democrat', 'new jersey10': 'democrat', 'mississippi3': 'republican', 'iowa4': 'republican', 'utah1': 'republican', 'rhode island2': 'democrat', 'california30': 'democrat', 'ohio16': 'republican', 'georgia7': 'republican', 'california3': 'democrat', 'oregon2': 'republican', 'texas19': 'republican', 'hawaii2': 'democrat', 'georgia12': 'republican', 'florida26': 'democrat', 'california13': 'democrat', 'illinois15': 'republican', 'texas24': 'republican', 'maryland8': 'democrat', 'north carolina13': 'republican', 'massachusetts9': 'democrat', 'pennsylvania16': 'republican', 'pennsylvania13': 'republican', 'maine2': 'democrat', 'washington10': 'democrat', 'massachusetts7': 'democrat', 'colorado4': 'republican', 'new york10': 'democrat', 'georgia10': 'republican', 'pennsylvania15': 'republican', 'new york24': 'democrat', 'florida1': 'republican', 'pennsylvania6': 'democrat', 'minnesota4': 'democratic-farmer-labor', 'pennsylvania2': 'democrat', 'washington6': 'democrat', 'virginia5': 'republican', 'maryland6': 'democrat', 'new york12': 'democrat', 'connecticut3': 'democrat', 'new york17': 'democrat', 'new york18': 'democrat', 'pennsylvania11': 'republican', 'florida23': 'democrat', 'california7': 'democrat', 'connecticut2': 'democrat', 'california19': 'democrat', 'maryland2': 'democrat', 'minnesota7': 'democratic-farmer-labor', 'texas11': 'republican', 'north carolina9': 'republican', 'washington9': 'democrat', 'kentucky6': 'republican', 'oregon3': 'democrat', 'missouri3': 'republican', 'michigan4': 'republican', 'north carolina3': 'republican', 'minnesota1': 'republican', 'california29': 'democrat', 'virginia11': 'democrat', 'ohio9': 'democrat', 'missouri6': 'republican', 'texas17': 'republican'}\n"
     ]
    }
   ],
   "source": [
    "housedist_to_party = {}\n",
    "\n",
    "# Get each state's most recent party that won\n",
    "for housedist in np.unique(house_df['state_dist']):\n",
    "    most_recent_year = np.amax(house_df[house_df['state_dist']==housedist]['year'].astype(int))\n",
    "    \n",
    "    # to filter obsolete districts\n",
    "    if int(most_recent_year) < 2012:\n",
    "        continue\n",
    "    most_recent_candidates = house_df[(house_df['state_dist']==housedist) & (house_df['year'].astype(int)==most_recent_year)].index\n",
    "    party, votes = None, 0\n",
    "    for ind in most_recent_candidates:\n",
    "        cand = house_df.iloc[ind]\n",
    "        if int(cand['candidatevotes']) > int(votes):\n",
    "            party, votes = cand['party'], cand['candidatevotes']\n",
    "    housedist_to_party[housedist.lower()] = party\n",
    "\n",
    "print(len(housedist_to_party))\n",
    "print(housedist_to_party)"
   ]
  },
  {
   "cell_type": "code",
   "execution_count": 44,
   "metadata": {},
   "outputs": [],
   "source": [
    "pickle.dump([state_to_party, housedist_to_party], open('baselines.pkl', 'wb'))"
   ]
  },
  {
   "cell_type": "code",
   "execution_count": null,
   "metadata": {},
   "outputs": [],
   "source": []
  }
 ],
 "metadata": {
  "kernelspec": {
   "display_name": "Python 3",
   "language": "python",
   "name": "python3"
  },
  "language_info": {
   "codemirror_mode": {
    "name": "ipython",
    "version": 3
   },
   "file_extension": ".py",
   "mimetype": "text/x-python",
   "name": "python",
   "nbconvert_exporter": "python",
   "pygments_lexer": "ipython3",
   "version": "3.5.2"
  }
 },
 "nbformat": 4,
 "nbformat_minor": 2
}
