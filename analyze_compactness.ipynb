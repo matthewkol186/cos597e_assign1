{
 "cells": [
  {
   "cell_type": "code",
   "execution_count": 1,
   "metadata": {},
   "outputs": [],
   "source": [
    "import numpy as np\n",
    "import csv\n",
    "import pandas as pd\n",
    "from datetime import datetime\n",
    "import pickle\n",
    "import us\n",
    "import matplotlib.pyplot as plt\n",
    "from scipy.stats import ttest_ind "
   ]
  },
  {
   "cell_type": "code",
   "execution_count": 4,
   "metadata": {},
   "outputs": [
    {
     "name": "stdout",
     "output_type": "stream",
     "text": [
      "Compactness\n",
      "   Unnamed: 0  Unnamed: 0.1  AFFGEOID        ALAND      AWATER  CD114FP  \\\n",
      "0           0             0   5001400   5047105127  1398742998        1   \n",
      "1           1             1   5001400   5055929740    98328889        6   \n",
      "2           2             2   5001400  23605159061   154525039        9   \n",
      "3           3             3   5001400  18818285227    61264203        5   \n",
      "4           4             4   5001400   1016917582    25618480        7   \n",
      "\n",
      "   CDSESSN  GEOID LSAD  STATEFP  ...   HoleCount  PolsbyPopp  PolyCount  \\\n",
      "0      114   1000   C1       10  ...         0.0    0.337284        4.0   \n",
      "1      114   2406   C2       24  ...         0.0    0.078050        1.0   \n",
      "2      114   5109   C2       51  ...         0.0    0.192672        1.0   \n",
      "3      114    805   C2        8  ...         0.0    0.408665        1.0   \n",
      "4      114   1307   C2       13  ...         0.0    0.269681        1.0   \n",
      "\n",
      "    ReockPS   ReockPT  ReockPTB  Schwartzbe        areaAH       perimSH    id  \n",
      "0  0.252601  0.252727  0.999998    0.580762  5.240076e+09  4.418510e+05  10-1  \n",
      "1  0.138866  0.138866  0.682049    0.279374  5.154404e+09  9.109785e+05  24-6  \n",
      "2  0.205394  0.205394  0.784135    0.438944  2.375987e+10  1.244852e+06  51-9  \n",
      "3  0.468348  0.468348  0.467861    0.639269  1.888102e+10  7.619626e+05   8-5  \n",
      "4  0.446677  0.446677  0.446679    0.519309  1.042539e+09  2.204070e+05  13-7  \n",
      "\n",
      "[5 rows x 24 columns]\n",
      "House Results\n",
      "   Unnamed: 0 state_id  STATEFP  seat_id  CD114FP  d_votes  r_votes  \\\n",
      "0           0       AK        2        1        1   159765   191568   \n",
      "1           1       AL        1        1        1   116949   211825   \n",
      "2           2       AL        1        2        2   105286   197996   \n",
      "3           3       AL        1        3        3   104595   217384   \n",
      "4           4       AL        1        4        4    56237   261553   \n",
      "\n",
      "   other_votes  d_vote_share  r_vote_share  other_vote_share  d_won  r_won  \\\n",
      "0            0      0.454740      0.545260          0.000000      0      1   \n",
      "1            0      0.355712      0.644288          0.000000      0      1   \n",
      "2          287      0.346827      0.652227          0.000945      0      1   \n",
      "3            0      0.324850      0.675150          0.000000      0      1   \n",
      "4            0      0.176963      0.823037          0.000000      0      1   \n",
      "\n",
      "   other_won   id  \n",
      "0          0  2-1  \n",
      "1          0  1-1  \n",
      "2          0  1-2  \n",
      "3          0  1-3  \n",
      "4          0  1-4  \n"
     ]
    }
   ],
   "source": [
    "compact_df = pd.read_csv('cd_scores.csv', encoding = \"ISO-8859-1\")\n",
    "houseresults = pd.read_csv('vote_results/clean_csv_11_23/house.csv', encoding = \"ISO-8859-1\")\n",
    "\n",
    "# # index fix\n",
    "# compact_df['CD114FP'] = compact_df['CD114FP'].replace(0, 1)\n",
    "# compact_df.to_csv('cd_scores.csv')\n",
    "\n",
    "compact_df['id'] = compact_df['STATEFP'].astype(str) + '-' + compact_df['CD114FP'].astype(str)\n",
    "houseresults['id'] = houseresults['STATEFP'].astype(str) + '-' + houseresults['CD114FP'].astype(str)\n",
    "\n",
    "print(\"Compactness\")\n",
    "print(compact_df.head())\n",
    "\n",
    "print(\"House Results\")\n",
    "print(houseresults.head())\n",
    "\n",
    "state_to_party, housedist_to_party = pickle.load(open('pundits.pkl', 'rb')) # read in baselines.pkl or pundits.pkl depending\n"
   ]
  },
  {
   "cell_type": "code",
   "execution_count": 5,
   "metadata": {},
   "outputs": [],
   "source": [
    "housedist_to_id = {}\n",
    "state_to_statefp = {}\n",
    "\n",
    "for i in range(len(houseresults)):\n",
    "    row = houseresults.iloc[i]\n",
    "    state = us.states.lookup(row['state_id']).name.lower()\n",
    "    state_to_statefp[state] = row['STATEFP']\n",
    "    \n",
    "    housedist_to_id[state+str(row['seat_id'])] = row['id']\n",
    "\n",
    "id_to_housedist = {v: k for k, v in housedist_to_id.items()}\n",
    "statefp_to_state = {v: k for k, v in state_to_statefp.items()}"
   ]
  },
  {
   "cell_type": "markdown",
   "metadata": {},
   "source": [
    "## Analyzing House"
   ]
  },
  {
   "cell_type": "code",
   "execution_count": 7,
   "metadata": {},
   "outputs": [
    {
     "name": "stdout",
     "output_type": "stream",
     "text": [
      "------- Compact Score: ReockPTB ----------\n",
      "Number wrong: 14 vs right: 405\n",
      "Average compact score for wrong: 0.45392, right: 0.48386\n",
      "P-value of ttest: 0.5126629341684116\n"
     ]
    },
    {
     "data": {
      "image/png": "[encoded data removed]",
      "text/plain": [
       "<Figure size 432x288 with 1 Axes>"
      ]
     },
     "metadata": {},
     "output_type": "display_data"
    },
    {
     "name": "stdout",
     "output_type": "stream",
     "text": [
      "------- Compact Score: ReockPS ----------\n",
      "Number wrong: 14 vs right: 405\n",
      "Average compact score for wrong: 0.36935, right: 0.38347\n",
      "P-value of ttest: 0.656928597117346\n"
     ]
    },
    {
     "data": {
      "image/png": "[encoded data removed]",
      "text/plain": [
       "<Figure size 432x288 with 1 Axes>"
      ]
     },
     "metadata": {},
     "output_type": "display_data"
    },
    {
     "name": "stdout",
     "output_type": "stream",
     "text": [
      "------- Compact Score: CvxHullPS ----------\n",
      "Number wrong: 14 vs right: 405\n",
      "Average compact score for wrong: 0.69602, right: 0.69956\n",
      "P-value of ttest: 0.915939506589514\n"
     ]
    },
    {
     "data": {
      "image/png": "[encoded data removed]",
      "text/plain": [
       "<Figure size 432x288 with 1 Axes>"
      ]
     },
     "metadata": {},
     "output_type": "display_data"
    }
   ],
   "source": [
    "compact_version = 'ReockPTB'\n",
    "\n",
    "for compact_version in ['ReockPTB', 'ReockPS', 'CvxHullPS']:\n",
    "    wrong_compact_scores = []\n",
    "    right_compact_scores = []\n",
    "    for i in range(len(houseresults)):\n",
    "        row = houseresults.iloc[i]\n",
    "        prev_result = housedist_to_party[id_to_housedist[row['id']]]\n",
    "        curr_result = 'democrat' if row['d_won'] else 'republican'\n",
    "        compact_score = compact_df[compact_df['id'] == row['id']][compact_version].values\n",
    "        if len(compact_score) != 1:\n",
    "            print(compact_score)\n",
    "            assert False\n",
    "        compact_score = compact_score[0]\n",
    "        if prev_result != curr_result:\n",
    "            wrong_compact_scores.append(compact_score)\n",
    "        else:\n",
    "            right_compact_scores.append(compact_score)\n",
    "    print(\"------- Compact Score: {} ----------\".format(compact_version))\n",
    "    \n",
    "    print(\"Number wrong: {0} vs right: {1}\".format(len(wrong_compact_scores), len(right_compact_scores)))\n",
    "    print(\"Average compact score for wrong: {0}, right: {1}\".format(round(np.mean(wrong_compact_scores), 5), round(np.mean(right_compact_scores), 5)))\n",
    "    \n",
    "    t, p = ttest_ind(wrong_compact_scores, right_compact_scores)\n",
    "    print(\"P-value of ttest: {}\".format(p))\n",
    "\n",
    "    bins = np.linspace(0, 1., 100)\n",
    "\n",
    "    plt.hist(right_compact_scores, bins, alpha=0.5, label='Correct')\n",
    "    plt.hist(wrong_compact_scores, bins, alpha=0.5, label='Incorrect')\n",
    "    plt.xlabel('{} Compactness Score'.format(compact_version))\n",
    "    plt.ylabel('Frequency')\n",
    "    plt.legend(loc='upper right')\n",
    "    plt.show()\n"
   ]
  },
  {
   "cell_type": "code",
   "execution_count": null,
   "metadata": {},
   "outputs": [],
   "source": []
  }
 ],
 "metadata": {
  "kernelspec": {
   "display_name": "Python 3",
   "language": "python",
   "name": "python3"
  },
  "language_info": {
   "codemirror_mode": {
    "name": "ipython",
    "version": 3
   },
   "file_extension": ".py",
   "mimetype": "text/x-python",
   "name": "python",
   "nbconvert_exporter": "python",
   "pygments_lexer": "ipython3",
   "version": "3.5.2"
  }
 },
 "nbformat": 4,
 "nbformat_minor": 2
}
